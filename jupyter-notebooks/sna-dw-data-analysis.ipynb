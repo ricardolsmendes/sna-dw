{
 "cells": [
  {
   "cell_type": "code",
   "execution_count": null,
   "id": "0e637bc3",
   "metadata": {},
   "outputs": [],
   "source": [
    "import matplotlib.pyplot as plt\n",
    "import networkx as nx"
   ]
  },
  {
   "cell_type": "code",
   "execution_count": null,
   "id": "6824d504",
   "metadata": {},
   "outputs": [],
   "source": [
    "agraph = nx.read_edgelist(\n",
    "    \"../data/prepared-datasets/network-connections-medium_2.csv\",\n",
    "    delimiter=',',\n",
    "    create_using=nx.DiGraph())"
   ]
  },
  {
   "cell_type": "code",
   "execution_count": null,
   "id": "3c03b0df",
   "metadata": {},
   "outputs": [],
   "source": [
    "print(\n",
    "    f\"Number of nodes: {nx.number_of_nodes(agraph)}\\n\"\n",
    "    f\"Number of edges: {nx.number_of_edges(agraph)}\\n\"\n",
    "    f\"Average clustering coefficient: {nx.average_clustering(agraph)}\"\n",
    ")"
   ]
  },
  {
   "cell_type": "code",
   "execution_count": null,
   "id": "72f592f8",
   "metadata": {},
   "outputs": [],
   "source": [
    "# Draw the network\n",
    "\n",
    "pos = nx.spring_layout(agraph)\n",
    "bet_cent = nx.betweenness_centrality(agraph, normalized=True, endpoints=True)\n",
    "node_color = [20000.0 * agraph.degree(v) for v in agraph]\n",
    "node_size = [v * 10000 for v in bet_cent.values()]\n",
    "plt.figure(figsize=(10,10))\n",
    "nx.draw_networkx(agraph, pos=pos, with_labels=False,\n",
    "                 node_color=node_color,\n",
    "                 node_size=node_size )\n",
    "plt.axis('off')"
   ]
  },
  {
   "cell_type": "code",
   "execution_count": null,
   "id": "c8056042",
   "metadata": {},
   "outputs": [],
   "source": [
    "# Network Connectivity: degree\n",
    "\n",
    "# Degree of a node defines the number of connections a node has.\n",
    "# NetworkX has the function degree which we can use to determine the degree of a node in the network.\n",
    "\n",
    "nx.degree(agraph, node_id)"
   ]
  },
  {
   "cell_type": "code",
   "execution_count": null,
   "id": "c1896503",
   "metadata": {},
   "outputs": [],
   "source": [
    "# Network Connectivity: clustering coefficient\n",
    "\n",
    "nx.average_clustering(agraph)"
   ]
  },
  {
   "cell_type": "code",
   "execution_count": null,
   "id": "5a0974c9",
   "metadata": {},
   "outputs": [],
   "source": [
    "# Network Influencers: betweenness centrality\n",
    "\n",
    "bet_cent = nx.betweenness_centrality(agraph, normalized=True, endpoints=True)\n",
    "\n",
    "# Print the labels of the nodes with the highest betweenness centrality.\n",
    "sorted(bet_cent, key=bet_cent.get, reverse=True)[:5]"
   ]
  }
 ],
 "metadata": {
  "kernelspec": {
   "display_name": "Python 3 (ipykernel)",
   "language": "python",
   "name": "python3"
  },
  "language_info": {
   "codemirror_mode": {
    "name": "ipython",
    "version": 3
   },
   "file_extension": ".py",
   "mimetype": "text/x-python",
   "name": "python",
   "nbconvert_exporter": "python",
   "pygments_lexer": "ipython3",
   "version": "3.8.16"
  }
 },
 "nbformat": 4,
 "nbformat_minor": 5
}
