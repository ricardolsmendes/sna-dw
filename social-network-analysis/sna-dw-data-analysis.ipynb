{
 "cells": [
  {
   "cell_type": "markdown",
   "id": "0269bfa1",
   "metadata": {},
   "source": [
    "# Social Network Analysis for Data Warehouses"
   ]
  },
  {
   "cell_type": "markdown",
   "id": "d8577887",
   "metadata": {},
   "source": [
    "## 1. Import dependencies"
   ]
  },
  {
   "cell_type": "code",
   "execution_count": null,
   "id": "0e637bc3",
   "metadata": {},
   "outputs": [],
   "source": [
    "import itertools\n",
    "from typing import Dict, List\n",
    "\n",
    "import matplotlib.pyplot as plt\n",
    "import networkx as nx\n",
    "from networkx.classes.graph import Graph\n",
    "import numpy as np"
   ]
  },
  {
   "cell_type": "markdown",
   "id": "1c088375",
   "metadata": {},
   "source": [
    "## 2. Load the graphs with anonymous table names\n",
    "\n",
    "_This step is intended to run only once, so it is commented out to avoid misuse._\n",
    "\n",
    "`nx.convert_node_labels_to_integers()`, used to anonymize the table names, is not guaranteed to assign the same integer value to a given node label every time it runs; thus, the results from the one-time run are persisted in the next step and should be pushed to the Git repo to generate consistent/reproducible research results in later notebook runs."
   ]
  },
  {
   "cell_type": "code",
   "execution_count": null,
   "id": "b1864cb2",
   "metadata": {},
   "outputs": [],
   "source": [
    "# prepared_data_folder = \"../data/prepared\"\n",
    "\n",
    "# small_graph_1 = nx.convert_node_labels_to_integers(\n",
    "#     nx.read_edgelist(\n",
    "#         f\"{prepared_data_folder}/prepared-dataset-small.csv\",\n",
    "#         delimiter=\",\", create_using=nx.DiGraph()),\n",
    "#     first_label=10001)\n",
    "\n",
    "# small_graph_2 = nx.convert_node_labels_to_integers(\n",
    "#     nx.read_edgelist(\n",
    "#         f\"{prepared_data_folder}/prepared-dataset-medium_1.csv\",\n",
    "#         delimiter=\",\", create_using=nx.DiGraph()),\n",
    "#     first_label=20001)\n",
    "\n",
    "# medium_graph = nx.convert_node_labels_to_integers(\n",
    "#     nx.read_edgelist(\n",
    "#         f\"{prepared_data_folder}/prepared-dataset-medium_2.csv\",\n",
    "#         delimiter=\",\", create_using=nx.DiGraph()),\n",
    "#     first_label=300001)\n",
    "\n",
    "# large_graph = nx.convert_node_labels_to_integers(\n",
    "#     nx.read_edgelist(\n",
    "#         f\"{prepared_data_folder}/prepared-dataset-large.csv\",\n",
    "#         delimiter=\",\", create_using=nx.DiGraph()),\n",
    "#     first_label=4000001)"
   ]
  },
  {
   "cell_type": "markdown",
   "id": "15903170",
   "metadata": {},
   "source": [
    "## 3. Store the anonymized graphs as CSV\n",
    "\n",
    "_This step is intended to run only once, so it is commented out to avoid misuse._"
   ]
  },
  {
   "cell_type": "code",
   "execution_count": null,
   "id": "d2b9b901",
   "metadata": {
    "scrolled": false
   },
   "outputs": [],
   "source": [
    "# anon_data_folder = \"../data/anonymized\"\n",
    "\n",
    "# nx.write_edgelist(small_graph_1,\n",
    "#     f\"{anon_data_folder}/anon-dataset-small_1.csv\",\n",
    "#     delimiter=\",\", data=False)\n",
    "\n",
    "# nx.write_edgelist(small_graph_2,\n",
    "#     f\"{anon_data_folder}/anon-dataset-small_2.csv\",\n",
    "#     delimiter=\",\", data=False)\n",
    "\n",
    "# nx.write_edgelist(medium_graph,\n",
    "#     f\"{anon_data_folder}/anon-dataset-medium.csv\",\n",
    "#     delimiter=\",\", data=False)\n",
    "\n",
    "# nx.write_edgelist(large_graph,\n",
    "#     f\"{anon_data_folder}/anon-dataset-large.csv\",\n",
    "#     delimiter=\",\", data=False)"
   ]
  },
  {
   "cell_type": "markdown",
   "id": "ee438627",
   "metadata": {},
   "source": [
    "## 4. Global utility functions"
   ]
  },
  {
   "cell_type": "code",
   "execution_count": null,
   "id": "9bdc46a4",
   "metadata": {},
   "outputs": [],
   "source": [
    "def load_graph_from_csv(file: str) -> Graph:\n",
    "    return nx.read_edgelist(\n",
    "        file, delimiter=\",\", create_using=nx.DiGraph)"
   ]
  },
  {
   "cell_type": "code",
   "execution_count": null,
   "id": "5ca39cd4",
   "metadata": {},
   "outputs": [],
   "source": [
    "def format_graph_info(graph_id: str, graph: Graph) -> str:\n",
    "    return (\n",
    "        f\"{graph_id.upper()} GRAPH INFO:\\n\"\n",
    "        f\"  Number of nodes: {nx.number_of_nodes(graph)}\\n\"\n",
    "        f\"  Number of edges: {nx.number_of_edges(graph)}\\n\"\n",
    "        f\"  Average clustering coefficient: {nx.average_clustering(graph)}\"\n",
    "    )"
   ]
  },
  {
   "cell_type": "code",
   "execution_count": null,
   "id": "19e30ddb",
   "metadata": {},
   "outputs": [],
   "source": [
    "def draw_network(graph: Graph) -> None:\n",
    "    pos = nx.spring_layout(graph)\n",
    "    bet_cent = nx.betweenness_centrality(graph, normalized=True, endpoints=True)\n",
    "    node_color = [20000 * graph.degree(node_id) for node_id in graph]\n",
    "    node_size = [node_bc * 1000000 for node_bc in bet_cent.values()]\n",
    "    plt.figure(figsize=(12, 8))\n",
    "    nx.draw_networkx(graph, pos=pos, with_labels=False,\n",
    "                     edge_color=\"dimgray\",\n",
    "                     node_color=node_color,\n",
    "                     node_size=node_size)\n",
    "    plt.axis('off')"
   ]
  },
  {
   "cell_type": "markdown",
   "id": "20a2bb99",
   "metadata": {},
   "source": [
    "## 5. Load the anonymized graphs from CSV"
   ]
  },
  {
   "cell_type": "code",
   "execution_count": null,
   "id": "f774689e",
   "metadata": {},
   "outputs": [],
   "source": [
    "anon_data_folder = \"../data/anonymized\"\n",
    "\n",
    "small_graph_1 = load_graph_from_csv(\n",
    "    f\"{anon_data_folder}/anon-dataset-small_1.csv\")\n",
    "print(f'{format_graph_info(\"small(1)\", small_graph_1)}\\n')\n",
    "\n",
    "small_graph_2 = load_graph_from_csv(\n",
    "    f\"{anon_data_folder}/anon-dataset-small_2.csv\")\n",
    "print(f'{format_graph_info(\"small(2)\", small_graph_2)}\\n')\n",
    "\n",
    "medium_graph = load_graph_from_csv(\n",
    "    f\"{anon_data_folder}/anon-dataset-medium.csv\")\n",
    "print(f'{format_graph_info(\"medium\", medium_graph)}\\n')\n",
    "\n",
    "large_graph = load_graph_from_csv(\n",
    "    f\"{anon_data_folder}/anon-dataset-large.csv\")\n",
    "print(f'{format_graph_info(\"large\", large_graph)}')"
   ]
  },
  {
   "cell_type": "markdown",
   "id": "57feb453",
   "metadata": {},
   "source": [
    "## Draw the initial networks"
   ]
  },
  {
   "cell_type": "code",
   "execution_count": null,
   "id": "72f592f8",
   "metadata": {},
   "outputs": [],
   "source": [
    "draw_network(small_graph_1)"
   ]
  },
  {
   "cell_type": "code",
   "execution_count": null,
   "id": "7b377d89",
   "metadata": {},
   "outputs": [],
   "source": [
    "draw_network(small_graph_2)"
   ]
  },
  {
   "cell_type": "markdown",
   "id": "8022323d",
   "metadata": {},
   "source": [
    "## Network Connectivity Analysis: Degree\n",
    "\n",
    "Degree defines the number of connections a node has."
   ]
  },
  {
   "cell_type": "markdown",
   "id": "69f1c45a",
   "metadata": {},
   "source": [
    "### Utility functions"
   ]
  },
  {
   "cell_type": "code",
   "execution_count": null,
   "id": "01aa552a",
   "metadata": {},
   "outputs": [],
   "source": [
    "def get_out_degree_list(graph: Graph) -> List[int]:\n",
    "     return [degree for _, degree in graph.out_degree]"
   ]
  },
  {
   "cell_type": "code",
   "execution_count": null,
   "id": "5eec9106",
   "metadata": {},
   "outputs": [],
   "source": [
    "def print_out_degree_histogram(\n",
    "    graph: Graph, color: str, start_from_degree: int=0\n",
    ") -> None:\n",
    "    degree_list = get_out_degree_list(graph)    \n",
    "    unique_degrees, counts = np.unique(degree_list, return_counts=True)\n",
    "    \n",
    "    plt.figure(figsize=(12, 3)) \n",
    "    plt.bar(\n",
    "        unique_degrees[start_from_degree:],\n",
    "        counts[start_from_degree:],\n",
    "        color=color\n",
    "    )\n",
    "    plt.xlabel(\"Out-degree\")\n",
    "    plt.ylabel(\"# of Nodes\")"
   ]
  },
  {
   "cell_type": "code",
   "execution_count": null,
   "id": "701d8efd",
   "metadata": {},
   "outputs": [],
   "source": [
    "def print_out_degree_rank(\n",
    "    graph: Graph, fmt: str, stop_at_degree: int=0\n",
    ") -> None:\n",
    "    degree_list = sorted(get_out_degree_list(graph), reverse=True)\n",
    "    \n",
    "    plt.figure(figsize=(12, 3)) \n",
    "    plt.plot(\n",
    "        degree_list[:stop_at_degree] if stop_at_degree else degree_list,\n",
    "        fmt\n",
    "    )\n",
    "    plt.xlabel(\"Rank\")\n",
    "    plt.ylabel(\"Out-degree\")"
   ]
  },
  {
   "cell_type": "code",
   "execution_count": null,
   "id": "34eb3180",
   "metadata": {},
   "outputs": [],
   "source": [
    "def group_nodes_by_out_degree(graph: Graph) -> Dict[int, List[str]]:\n",
    "    out_degree_list = get_out_degree_list(graph)\n",
    "    degrees_dict = {}\n",
    "    reverse_unique_degree_list = sorted(np.unique(out_degree_list), reverse=True)\n",
    "    for unique_degree in reverse_unique_degree_list:\n",
    "        degrees_dict[int(unique_degree)] = sorted([\n",
    "            node for node, degree in graph.out_degree if degree == unique_degree\n",
    "        ])\n",
    "    return degrees_dict"
   ]
  },
  {
   "cell_type": "code",
   "execution_count": null,
   "id": "cea6c137",
   "metadata": {},
   "outputs": [],
   "source": [
    "def get_highest_out_degree_groups(\n",
    "    graph: Graph, count: int=10\n",
    ") -> Dict[int, List[str]]:\n",
    "    out_degree_groups = group_nodes_by_out_degree(graph)\n",
    "    highest_degrees = dict(itertools.islice(out_degree_groups.items(), count))\n",
    "\n",
    "    degree_sum = sum(get_out_degree_list(graph))\n",
    "    highest_degree_sum = sum([\n",
    "        degree * len(nodes) for degree, nodes in highest_degrees.items()\n",
    "    ])\n",
    "    highest_total_degree_ratio = highest_degree_sum / degree_sum * 100\n",
    "    print(f\"Highest/total out-degree ratio: {highest_total_degree_ratio:.0f}%\"\n",
    "          f\" ({highest_degree_sum}/{degree_sum})\")\n",
    "    \n",
    "    return highest_degrees"
   ]
  },
  {
   "cell_type": "markdown",
   "id": "40ecfddf",
   "metadata": {},
   "source": [
    "### Draw the networks, degree histograms, and ranks"
   ]
  },
  {
   "cell_type": "code",
   "execution_count": null,
   "id": "adcd96ea",
   "metadata": {},
   "outputs": [],
   "source": [
    "draw_network(small_graph_1)"
   ]
  },
  {
   "cell_type": "code",
   "execution_count": null,
   "id": "fcb65889",
   "metadata": {},
   "outputs": [],
   "source": [
    "print_out_degree_histogram(small_graph_1, \"blue\")"
   ]
  },
  {
   "cell_type": "code",
   "execution_count": null,
   "id": "b56c37ed",
   "metadata": {},
   "outputs": [],
   "source": [
    "print_out_degree_histogram(small_graph_1, \"blue\", start_from_degree=10)"
   ]
  },
  {
   "cell_type": "code",
   "execution_count": null,
   "id": "5af0da41",
   "metadata": {
    "scrolled": false
   },
   "outputs": [],
   "source": [
    "print_out_degree_rank(small_graph_1, \"bo-\")"
   ]
  },
  {
   "cell_type": "code",
   "execution_count": null,
   "id": "44fe34c2",
   "metadata": {
    "scrolled": true
   },
   "outputs": [],
   "source": [
    "print_out_degree_rank(small_graph_1, \"bo-\", stop_at_degree=50)"
   ]
  },
  {
   "cell_type": "code",
   "execution_count": null,
   "id": "24c13aea",
   "metadata": {},
   "outputs": [],
   "source": [
    "highest_out_degree_groups = get_highest_out_degree_groups(small_graph_1)\n",
    "print(f\"\\n{highest_out_degree_groups}\")"
   ]
  },
  {
   "cell_type": "code",
   "execution_count": null,
   "id": "9af8cb61",
   "metadata": {},
   "outputs": [],
   "source": [
    "draw_network(small_graph_2)"
   ]
  },
  {
   "cell_type": "code",
   "execution_count": null,
   "id": "8d8ef749",
   "metadata": {},
   "outputs": [],
   "source": [
    "print_out_degree_histogram(small_graph_2, \"red\")"
   ]
  },
  {
   "cell_type": "code",
   "execution_count": null,
   "id": "3240f8e9",
   "metadata": {},
   "outputs": [],
   "source": [
    "print_out_degree_histogram(small_graph_2, \"red\", start_from_degree=10)"
   ]
  },
  {
   "cell_type": "code",
   "execution_count": null,
   "id": "654865f5",
   "metadata": {
    "scrolled": false
   },
   "outputs": [],
   "source": [
    "print_out_degree_rank(small_graph_2, \"ro-\")"
   ]
  },
  {
   "cell_type": "code",
   "execution_count": null,
   "id": "f68102c9",
   "metadata": {
    "scrolled": true
   },
   "outputs": [],
   "source": [
    "print_out_degree_rank(small_graph_2, \"ro-\", stop_at_degree=50)"
   ]
  },
  {
   "cell_type": "code",
   "execution_count": null,
   "id": "5b9e5ea7",
   "metadata": {},
   "outputs": [],
   "source": [
    "highest_out_degree_groups = get_highest_out_degree_groups(small_graph_2)\n",
    "print(f\"\\n{highest_out_degree_groups}\")"
   ]
  },
  {
   "cell_type": "code",
   "execution_count": null,
   "id": "5cf9530d",
   "metadata": {},
   "outputs": [],
   "source": [
    "draw_network(medium_graph)"
   ]
  },
  {
   "cell_type": "code",
   "execution_count": null,
   "id": "d2fe1a0e",
   "metadata": {},
   "outputs": [],
   "source": [
    "print_out_degree_histogram(medium_graph, \"cyan\")"
   ]
  },
  {
   "cell_type": "code",
   "execution_count": null,
   "id": "5941ee59",
   "metadata": {
    "scrolled": true
   },
   "outputs": [],
   "source": [
    "print_out_degree_histogram(medium_graph, \"cyan\", start_from_degree=10)"
   ]
  },
  {
   "cell_type": "code",
   "execution_count": null,
   "id": "09ac8ac6",
   "metadata": {
    "scrolled": false
   },
   "outputs": [],
   "source": [
    "print_out_degree_rank(medium_graph, \"co-\")"
   ]
  },
  {
   "cell_type": "code",
   "execution_count": null,
   "id": "7f6d58d0",
   "metadata": {
    "scrolled": false
   },
   "outputs": [],
   "source": [
    "print_out_degree_rank(medium_graph, \"co-\", stop_at_degree=50)"
   ]
  },
  {
   "cell_type": "code",
   "execution_count": null,
   "id": "3e2012f7",
   "metadata": {},
   "outputs": [],
   "source": [
    "highest_out_degree_groups = get_highest_out_degree_groups(medium_graph)\n",
    "print(f\"\\n{highest_out_degree_groups}\")"
   ]
  },
  {
   "cell_type": "code",
   "execution_count": null,
   "id": "805b0d12",
   "metadata": {},
   "outputs": [],
   "source": [
    "draw_network(large_graph)"
   ]
  },
  {
   "cell_type": "code",
   "execution_count": null,
   "id": "9e3136f9",
   "metadata": {
    "scrolled": true
   },
   "outputs": [],
   "source": [
    "print_out_degree_histogram(large_graph, \"magenta\")"
   ]
  },
  {
   "cell_type": "code",
   "execution_count": null,
   "id": "47efd4e9",
   "metadata": {
    "scrolled": true
   },
   "outputs": [],
   "source": [
    "print_out_degree_histogram(large_graph, \"magenta\", start_from_degree=50)"
   ]
  },
  {
   "cell_type": "code",
   "execution_count": null,
   "id": "b8dd041e",
   "metadata": {
    "scrolled": false
   },
   "outputs": [],
   "source": [
    "print_out_degree_rank(large_graph, \"mo-\")"
   ]
  },
  {
   "cell_type": "code",
   "execution_count": null,
   "id": "363eb190",
   "metadata": {
    "scrolled": false
   },
   "outputs": [],
   "source": [
    "print_out_degree_rank(large_graph, \"mo-\", stop_at_degree=50)"
   ]
  },
  {
   "cell_type": "code",
   "execution_count": null,
   "id": "bb4aef89",
   "metadata": {},
   "outputs": [],
   "source": [
    "highest_out_degree_groups = get_highest_out_degree_groups(large_graph)\n",
    "print(f\"\\n{highest_out_degree_groups}\")"
   ]
  },
  {
   "cell_type": "markdown",
   "id": "42dfd4e0",
   "metadata": {},
   "source": [
    "## Other metrics"
   ]
  },
  {
   "cell_type": "code",
   "execution_count": null,
   "id": "5a0974c9",
   "metadata": {},
   "outputs": [],
   "source": [
    "# Network Influencers: betweenness centrality\n",
    "\n",
    "bet_cent = nx.betweenness_centrality(graph, normalized=True, endpoints=True)\n",
    "\n",
    "# Print the labels of the nodes with the highest betweenness centrality.\n",
    "sorted(bet_cent, key=bet_cent.get, reverse=True)[:5]"
   ]
  }
 ],
 "metadata": {
  "kernelspec": {
   "display_name": "Python 3 (ipykernel)",
   "language": "python",
   "name": "python3"
  },
  "language_info": {
   "codemirror_mode": {
    "name": "ipython",
    "version": 3
   },
   "file_extension": ".py",
   "mimetype": "text/x-python",
   "name": "python",
   "nbconvert_exporter": "python",
   "pygments_lexer": "ipython3",
   "version": "3.8.16"
  }
 },
 "nbformat": 4,
 "nbformat_minor": 5
}
