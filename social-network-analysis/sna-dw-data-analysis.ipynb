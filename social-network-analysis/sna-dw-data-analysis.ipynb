{
 "cells": [
  {
   "cell_type": "markdown",
   "id": "0269bfa1",
   "metadata": {},
   "source": [
    "# Social Network Analysis for Data Warehouses"
   ]
  },
  {
   "cell_type": "markdown",
   "id": "d8577887",
   "metadata": {},
   "source": [
    "## 1. Import dependencies"
   ]
  },
  {
   "cell_type": "code",
   "execution_count": null,
   "id": "0e637bc3",
   "metadata": {},
   "outputs": [],
   "source": [
    "from typing import List\n",
    "\n",
    "import matplotlib.pyplot as plt\n",
    "import networkx as nx\n",
    "from networkx.classes.graph import Graph"
   ]
  },
  {
   "cell_type": "markdown",
   "id": "1c088375",
   "metadata": {},
   "source": [
    "## 2. Load the graphs with anonymous table names\n",
    "\n",
    "_This step is intended to run only once, so it is commented out to avoid misuse._\n",
    "\n",
    "`nx.convert_node_labels_to_integers()`, used to anonymize the table names, is not guaranteed to assign the same integer value to a given node label every time it runs; thus, the results from the one-time run are persisted in the next step and should be pushed to the Git repo to generate consistent/reproducible research results in later notebook runs."
   ]
  },
  {
   "cell_type": "code",
   "execution_count": null,
   "id": "b1864cb2",
   "metadata": {},
   "outputs": [],
   "source": [
    "# prepared_data_folder = \"../data/prepared\"\n",
    "\n",
    "# small_graph_1 = nx.convert_node_labels_to_integers(\n",
    "#     nx.read_edgelist(\n",
    "#         f\"{prepared_data_folder}/prepared-dataset-small.csv\",\n",
    "#         delimiter=\",\", create_using=nx.DiGraph()),\n",
    "#     first_label=10001)\n",
    "\n",
    "# small_graph_2 = nx.convert_node_labels_to_integers(\n",
    "#     nx.read_edgelist(\n",
    "#         f\"{prepared_data_folder}/prepared-dataset-medium_1.csv\",\n",
    "#         delimiter=\",\", create_using=nx.DiGraph()),\n",
    "#     first_label=20001)\n",
    "\n",
    "# medium_graph = nx.convert_node_labels_to_integers(\n",
    "#     nx.read_edgelist(\n",
    "#         f\"{prepared_data_folder}/prepared-dataset-medium_2.csv\",\n",
    "#         delimiter=\",\", create_using=nx.DiGraph()),\n",
    "#     first_label=300001)\n",
    "\n",
    "# large_graph = nx.convert_node_labels_to_integers(\n",
    "#     nx.read_edgelist(\n",
    "#         f\"{prepared_data_folder}/prepared-dataset-large.csv\",\n",
    "#         delimiter=\",\", create_using=nx.DiGraph()),\n",
    "#     first_label=4000001)"
   ]
  },
  {
   "cell_type": "markdown",
   "id": "15903170",
   "metadata": {},
   "source": [
    "## 3. Store the anonymized graphs as CSV\n",
    "\n",
    "_This step is intended to run only once, so it is commented out to avoid misuse._"
   ]
  },
  {
   "cell_type": "code",
   "execution_count": null,
   "id": "d2b9b901",
   "metadata": {
    "scrolled": false
   },
   "outputs": [],
   "source": [
    "# anon_data_folder = \"../data/anonymized\"\n",
    "\n",
    "# nx.write_edgelist(small_graph_1,\n",
    "#     f\"{anon_data_folder}/anon-dataset-small_1.csv\",\n",
    "#     delimiter=\",\", data=False)\n",
    "\n",
    "# nx.write_edgelist(small_graph_2,\n",
    "#     f\"{anon_data_folder}/anon-dataset-small_2.csv\",\n",
    "#     delimiter=\",\", data=False)\n",
    "\n",
    "# nx.write_edgelist(medium_graph,\n",
    "#     f\"{anon_data_folder}/anon-dataset-medium.csv\",\n",
    "#     delimiter=\",\", data=False)\n",
    "\n",
    "# nx.write_edgelist(large_graph,\n",
    "#     f\"{anon_data_folder}/anon-dataset-large.csv\",\n",
    "#     delimiter=\",\", data=False)"
   ]
  },
  {
   "cell_type": "markdown",
   "id": "ee438627",
   "metadata": {},
   "source": [
    "## 4. Global utility functions"
   ]
  },
  {
   "cell_type": "code",
   "execution_count": null,
   "id": "9bdc46a4",
   "metadata": {},
   "outputs": [],
   "source": [
    "def load_graph_from_csv(file: str) -> Graph:\n",
    "    return nx.read_edgelist(\n",
    "        file, delimiter=\",\", create_using=nx.DiGraph)"
   ]
  },
  {
   "cell_type": "code",
   "execution_count": null,
   "id": "5ca39cd4",
   "metadata": {},
   "outputs": [],
   "source": [
    "def format_graph_info(graph_id: str, graph: Graph) -> str:\n",
    "    return (\n",
    "        f\"{graph_id.upper()} GRAPH INFO:\\n\"\n",
    "        f\"  Number of nodes: {nx.number_of_nodes(graph)}\\n\"\n",
    "        f\"  Number of edges: {nx.number_of_edges(graph)}\\n\"\n",
    "        f\"  Average clustering coefficient: {nx.average_clustering(graph)}\"\n",
    "    )"
   ]
  },
  {
   "cell_type": "code",
   "execution_count": null,
   "id": "19e30ddb",
   "metadata": {},
   "outputs": [],
   "source": [
    "def draw_network(graph: Graph) -> None:\n",
    "    \"\"\"\n",
    "    Parameters\n",
    "    ----------\n",
    "    graph: Networkx graph\n",
    "       A graph\n",
    "    \"\"\"\n",
    "    pos = nx.spring_layout(graph)\n",
    "    bet_cent = nx.betweenness_centrality(graph, normalized=True, endpoints=True)\n",
    "    node_color = [20000 * graph.degree(node_id) for node_id in graph]\n",
    "    node_size = [node_bc * 1000000 for node_bc in bet_cent.values()]\n",
    "    plt.figure(figsize=(12, 8))\n",
    "    nx.draw_networkx(graph, pos=pos, with_labels=False,\n",
    "                     edge_color=\"dimgray\",\n",
    "                     node_color=node_color,\n",
    "                     node_size=node_size)\n",
    "    plt.axis('off')"
   ]
  },
  {
   "cell_type": "markdown",
   "id": "20a2bb99",
   "metadata": {},
   "source": [
    "## 5. Load the anonymized graphs from CSV"
   ]
  },
  {
   "cell_type": "code",
   "execution_count": null,
   "id": "f774689e",
   "metadata": {},
   "outputs": [],
   "source": [
    "anon_data_folder = \"../data/anonymized\"\n",
    "\n",
    "small_graph_1 = load_graph_from_csv(\n",
    "    f\"{anon_data_folder}/anon-dataset-small_1.csv\")\n",
    "print(f'{format_graph_info(\"small(1)\", small_graph_1)}\\n')\n",
    "\n",
    "small_graph_2 = load_graph_from_csv(\n",
    "    f\"{anon_data_folder}/anon-dataset-small_2.csv\")\n",
    "print(f'{format_graph_info(\"small(2)\", small_graph_2)}\\n')\n",
    "\n",
    "medium_graph = load_graph_from_csv(\n",
    "    f\"{anon_data_folder}/anon-dataset-medium.csv\")\n",
    "print(f'{format_graph_info(\"medium\", medium_graph)}\\n')\n",
    "\n",
    "large_graph = load_graph_from_csv(\n",
    "    f\"{anon_data_folder}/anon-dataset-large.csv\")\n",
    "print(f'{format_graph_info(\"large\", large_graph)}')"
   ]
  },
  {
   "cell_type": "markdown",
   "id": "57feb453",
   "metadata": {},
   "source": [
    "## Draw the initial networks"
   ]
  },
  {
   "cell_type": "code",
   "execution_count": null,
   "id": "72f592f8",
   "metadata": {},
   "outputs": [],
   "source": [
    "draw_network(small_graph_1)"
   ]
  },
  {
   "cell_type": "code",
   "execution_count": null,
   "id": "7b377d89",
   "metadata": {},
   "outputs": [],
   "source": [
    "draw_network(small_graph_2)"
   ]
  },
  {
   "cell_type": "markdown",
   "id": "8022323d",
   "metadata": {},
   "source": [
    "## Network Connectivity Analysis: Degree\n",
    "\n",
    "Degree of a node defines the number of connections a node has."
   ]
  },
  {
   "cell_type": "markdown",
   "id": "69f1c45a",
   "metadata": {},
   "source": [
    "### Utility functions"
   ]
  },
  {
   "cell_type": "code",
   "execution_count": null,
   "id": "9f2c85d5",
   "metadata": {},
   "outputs": [],
   "source": [
    "def get_out_degree_greater_than_zero_subgraph(graph: Graph) -> Graph:\n",
    "    \"\"\"\n",
    "    Parameters\n",
    "    ----------\n",
    "    graph: Networkx graph\n",
    "       A graph\n",
    "    \"\"\"\n",
    "    out_degrees = graph.out_degree()\n",
    "    nodes_to_keep = [\n",
    "        node for node, out_degree in out_degrees if out_degree > 0\n",
    "    ]\n",
    "    return graph.subgraph(nodes_to_keep)"
   ]
  },
  {
   "cell_type": "code",
   "execution_count": null,
   "id": "31af19fd",
   "metadata": {},
   "outputs": [],
   "source": [
    "def make_degree_histogram(\n",
    "        graph: Graph, in_degree: bool=False, out_degree: bool=False\n",
    "    ) -> List:\n",
    "    \"\"\"Return a list of the frequency of each degree value.\n",
    "\n",
    "    Parameters\n",
    "    ----------\n",
    "    graph: Networkx graph\n",
    "       A graph\n",
    "    in_degree: bool\n",
    "    out_degree : bool\n",
    "\n",
    "    Returns\n",
    "    -------\n",
    "    histogram : list\n",
    "       A list of frequencies of degrees.\n",
    "       The degree values are the index in the list.\n",
    "\n",
    "    Notes\n",
    "    -----\n",
    "    Note: the bins are width one, hence len(list) can be large\n",
    "    (Order(number_of_edges))\n",
    "    \"\"\"\n",
    "    nodes = graph.nodes()\n",
    "    if in_degree:\n",
    "        in_degree = dict(graph.in_degree())\n",
    "        degree_list = [in_degree.get(node, 0) for node in nodes]\n",
    "    elif out_degree:\n",
    "        out_degree = dict(graph.out_degree())\n",
    "        degree_list = [out_degree.get(node, 0) for node in nodes]\n",
    "    else:\n",
    "        degree_list = [degree for node, degree in graph.degree()]\n",
    "    max_degree = max(degree_list) + 1\n",
    "    histogram = [0 for _ in range(max_degree)]\n",
    "    for degree in degree_list:\n",
    "        histogram[degree] += 1\n",
    "    return histogram"
   ]
  },
  {
   "cell_type": "code",
   "execution_count": null,
   "id": "91ee2fe2",
   "metadata": {},
   "outputs": [],
   "source": [
    "def print_out_degree_histogram(graph: Graph) -> None:\n",
    "    out_degree_histogram = make_degree_histogram(graph, out_degree=True)\n",
    "    print(out_degree_histogram[1:])\n",
    "\n",
    "    plt.figure(figsize=(12, 4)) \n",
    "    plt.plot(\n",
    "        range(len(out_degree_histogram[1:])), out_degree_histogram[1:], \"bo-\"\n",
    "    )\n",
    "\n",
    "    plt.xlabel(\"Degree\")\n",
    "    plt.ylabel(\"Frequency\")"
   ]
  },
  {
   "cell_type": "markdown",
   "id": "905aa265",
   "metadata": {},
   "source": [
    "### Out-degree > 0 subgraphs"
   ]
  },
  {
   "cell_type": "code",
   "execution_count": null,
   "id": "c7498635",
   "metadata": {},
   "outputs": [],
   "source": [
    "small_graph_out_degrees_1 = \\\n",
    "    get_out_degree_greater_than_zero_subgraph(small_graph_1)\n",
    "print(f'{format_graph_info(\"small(1)\", small_graph_out_degrees_1)}\\n')\n",
    "\n",
    "small_graph_out_degrees_2 = \\\n",
    "    get_out_degree_greater_than_zero_subgraph(small_graph_2)\n",
    "print(f'{format_graph_info(\"small(2)\", small_graph_out_degrees_2)}\\n')\n",
    "\n",
    "medium_graph_out_degrees = \\\n",
    "    get_out_degree_greater_than_zero_subgraph(medium_graph)\n",
    "print(f'{format_graph_info(\"medium\", medium_graph_out_degrees)}\\n')\n",
    "\n",
    "large_graph_out_degrees = \\\n",
    "    get_out_degree_greater_than_zero_subgraph(large_graph)\n",
    "print(f'{format_graph_info(\"large\", large_graph_out_degrees)}')"
   ]
  },
  {
   "cell_type": "markdown",
   "id": "15291134",
   "metadata": {},
   "source": [
    "### Draw the networks and degree histograms"
   ]
  },
  {
   "cell_type": "code",
   "execution_count": null,
   "id": "d146c9a6",
   "metadata": {},
   "outputs": [],
   "source": [
    "draw_network(small_graph_out_degrees_1)"
   ]
  },
  {
   "cell_type": "code",
   "execution_count": null,
   "id": "be85d19c",
   "metadata": {},
   "outputs": [],
   "source": [
    "print_out_degree_histogram(small_graph_out_degrees_1)"
   ]
  },
  {
   "cell_type": "code",
   "execution_count": null,
   "id": "001ec21b",
   "metadata": {},
   "outputs": [],
   "source": [
    "draw_network(small_graph_out_degrees_2)"
   ]
  },
  {
   "cell_type": "code",
   "execution_count": null,
   "id": "8fd6f39b",
   "metadata": {},
   "outputs": [],
   "source": [
    "print_out_degree_histogram(small_graph_out_degrees_2)"
   ]
  },
  {
   "cell_type": "code",
   "execution_count": null,
   "id": "373b8344",
   "metadata": {},
   "outputs": [],
   "source": [
    "draw_network(medium_graph_out_degrees)"
   ]
  },
  {
   "cell_type": "code",
   "execution_count": null,
   "id": "cb4b06b6",
   "metadata": {},
   "outputs": [],
   "source": [
    "print_out_degree_histogram(medium_graph_out_degrees)"
   ]
  },
  {
   "cell_type": "code",
   "execution_count": null,
   "id": "a090f3c6",
   "metadata": {},
   "outputs": [],
   "source": [
    "draw_network(large_graph_out_degrees)"
   ]
  },
  {
   "cell_type": "code",
   "execution_count": null,
   "id": "985d9ad8",
   "metadata": {},
   "outputs": [],
   "source": [
    "print_out_degree_histogram(large_graph_out_degrees)"
   ]
  },
  {
   "cell_type": "markdown",
   "id": "42dfd4e0",
   "metadata": {},
   "source": [
    "## Other metrics"
   ]
  },
  {
   "cell_type": "code",
   "execution_count": null,
   "id": "5a0974c9",
   "metadata": {},
   "outputs": [],
   "source": [
    "# Network Influencers: betweenness centrality\n",
    "\n",
    "bet_cent = nx.betweenness_centrality(graph, normalized=True, endpoints=True)\n",
    "\n",
    "# Print the labels of the nodes with the highest betweenness centrality.\n",
    "sorted(bet_cent, key=bet_cent.get, reverse=True)[:5]"
   ]
  }
 ],
 "metadata": {
  "kernelspec": {
   "display_name": "Python 3 (ipykernel)",
   "language": "python",
   "name": "python3"
  },
  "language_info": {
   "codemirror_mode": {
    "name": "ipython",
    "version": 3
   },
   "file_extension": ".py",
   "mimetype": "text/x-python",
   "name": "python",
   "nbconvert_exporter": "python",
   "pygments_lexer": "ipython3",
   "version": "3.8.10"
  }
 },
 "nbformat": 4,
 "nbformat_minor": 5
}
