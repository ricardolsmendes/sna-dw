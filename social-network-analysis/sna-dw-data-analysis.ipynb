{
 "cells": [
  {
   "cell_type": "markdown",
   "id": "0269bfa1",
   "metadata": {},
   "source": [
    "# Social Network Analysis for Data Warehouses"
   ]
  },
  {
   "cell_type": "markdown",
   "id": "d8577887",
   "metadata": {},
   "source": [
    "## 1. Import dependencies"
   ]
  },
  {
   "cell_type": "code",
   "execution_count": null,
   "id": "0e637bc3",
   "metadata": {},
   "outputs": [],
   "source": [
    "import matplotlib.pyplot as plt\n",
    "import networkx as nx"
   ]
  },
  {
   "cell_type": "markdown",
   "id": "1c088375",
   "metadata": {},
   "source": [
    "## 2. Load the graphs with anonymous table names"
   ]
  },
  {
   "cell_type": "code",
   "execution_count": null,
   "id": "b1864cb2",
   "metadata": {},
   "outputs": [],
   "source": [
    "small_1_graph = nx.convert_node_labels_to_integers(\n",
    "    nx.read_edgelist(\n",
    "        \"../data/prepared/prepared-dataset-small.csv\",\n",
    "        delimiter=',', create_using=nx.DiGraph()),\n",
    "    first_label=10001)\n",
    "\n",
    "small_2_graph = nx.convert_node_labels_to_integers(\n",
    "    nx.read_edgelist(\n",
    "        \"../data/prepared/prepared-dataset-medium_1.csv\",\n",
    "        delimiter=',', create_using=nx.DiGraph()),\n",
    "    first_label=20001)\n",
    "\n",
    "medium_graph = nx.convert_node_labels_to_integers(\n",
    "    nx.read_edgelist(\n",
    "        \"../data/prepared/prepared-dataset-medium_2.csv\",\n",
    "        delimiter=',', create_using=nx.DiGraph()),\n",
    "    first_label=300001)\n",
    "\n",
    "large_graph = nx.convert_node_labels_to_integers(\n",
    "    nx.read_edgelist(\n",
    "        \"../data/prepared/prepared-dataset-large.csv\",\n",
    "        delimiter=',', create_using=nx.DiGraph()),\n",
    "    first_label=4000001)"
   ]
  },
  {
   "cell_type": "markdown",
   "id": "15903170",
   "metadata": {},
   "source": [
    "## 3. Optionally store the anonymized datasets as CSV"
   ]
  },
  {
   "cell_type": "code",
   "execution_count": null,
   "id": "d2b9b901",
   "metadata": {},
   "outputs": [],
   "source": [
    "nx.write_edgelist(small_1_graph, \"../data/anonymized/anon-dataset-small_1.csv\",\n",
    "    delimiter=',', data=False)\n",
    "\n",
    "nx.write_edgelist(small_2_graph, \"../data/anonymized/anon-dataset-small_2.csv\",\n",
    "    delimiter=',', data=False)\n",
    "\n",
    "nx.write_edgelist(medium_graph, \"../data/anonymized/anon-dataset-medium.csv\",\n",
    "    delimiter=',', data=False)\n",
    "\n",
    "nx.write_edgelist(large_graph, \"../data/anonymized/anon-dataset-large.csv\",\n",
    "    delimiter=',', data=False)"
   ]
  },
  {
   "cell_type": "markdown",
   "id": "57feb453",
   "metadata": {},
   "source": [
    "## 4. Nodes and edges info"
   ]
  },
  {
   "cell_type": "code",
   "execution_count": null,
   "id": "3c03b0df",
   "metadata": {},
   "outputs": [],
   "source": [
    "print(\n",
    "    f\"SMALL(1) DATASET INFO:\\n\"\n",
    "    f\"  Number of nodes: {nx.number_of_nodes(small_1_graph)}\\n\"\n",
    "    f\"  Number of edges: {nx.number_of_edges(small_1_graph)}\\n\"\n",
    ")\n",
    "\n",
    "print(\n",
    "    f\"SMALL(2) DATASET INFO:\\n\"\n",
    "    f\"  Number of nodes: {nx.number_of_nodes(small_2_graph)}\\n\"\n",
    "    f\"  Number of edges: {nx.number_of_edges(small_2_graph)}\\n\"\n",
    ")\n",
    "\n",
    "print(\n",
    "    f\"MEDIUM DATASET INFO:\\n\"\n",
    "    f\"  Number of nodes: {nx.number_of_nodes(medium_graph)}\\n\"\n",
    "    f\"  Number of edges: {nx.number_of_edges(medium_graph)}\\n\"\n",
    ")\n",
    "\n",
    "print(\n",
    "    f\"LARGE DATASET INFO:\\n\"\n",
    "    f\"  Number of nodes: {nx.number_of_nodes(large_graph)}\\n\"\n",
    "    f\"  Number of edges: {nx.number_of_edges(large_graph)}\"\n",
    ")"
   ]
  },
  {
   "cell_type": "markdown",
   "id": "09ef8b69",
   "metadata": {},
   "source": [
    "## Network connectivity: Clustering Coefficients"
   ]
  },
  {
   "cell_type": "code",
   "execution_count": null,
   "id": "c1896503",
   "metadata": {},
   "outputs": [],
   "source": [
    "# Network connectivity: Clustering Coefficients\n",
    "\n",
    "print(\n",
    "    f\"SMALL(1) DATASET INFO:\\n\"\n",
    "    f\"  Average clustering coefficient: {nx.average_clustering(small_1_graph)}\\n\"\n",
    ")\n",
    "\n",
    "print(\n",
    "    f\"SMALL(2) DATASET INFO:\\n\"\n",
    "    f\"  Average clustering coefficient: {nx.average_clustering(small_2_graph)}\\n\"\n",
    ")\n",
    "\n",
    "print(\n",
    "    f\"MEDIUM DATASET INFO:\\n\"\n",
    "    f\"  Average clustering coefficient: {nx.average_clustering(medium_graph)}\\n\"\n",
    ")\n",
    "\n",
    "print(\n",
    "    f\"LARGE DATASET INFO:\\n\"\n",
    "    f\"  Average clustering coefficient: {nx.average_clustering(large_graph)}\"\n",
    ")"
   ]
  },
  {
   "cell_type": "markdown",
   "id": "1a1baa74",
   "metadata": {},
   "source": [
    "## Degree histograms"
   ]
  },
  {
   "cell_type": "code",
   "execution_count": null,
   "id": "31af19fd",
   "metadata": {},
   "outputs": [],
   "source": [
    "def degree_histogram_directed(graph, in_degree=False, out_degree=False):\n",
    "    \"\"\"Return a list of the frequency of each degree value.\n",
    "\n",
    "    Parameters\n",
    "    ----------\n",
    "    graph: Networkx graph\n",
    "       A graph\n",
    "    in_degree: bool\n",
    "    out_degree : bool\n",
    "\n",
    "    Returns\n",
    "    -------\n",
    "    hist : list\n",
    "       A list of frequencies of degrees.\n",
    "       The degree values are the index in the list.\n",
    "\n",
    "    Notes\n",
    "    -----\n",
    "    Note: the bins are width one, hence len(list) can be large\n",
    "    (Order(number_of_edges))\n",
    "    \"\"\"\n",
    "    nodes = G.nodes()\n",
    "    if in_degree:\n",
    "        in_degree = dict(G.in_degree())\n",
    "        degseq = [in_degree.get(k, 0) for k in nodes]\n",
    "    elif out_degree:\n",
    "        out_degree = dict(G.out_degree())\n",
    "        degseq = [out_degree.get(k, 0) for k in nodes]\n",
    "    else:\n",
    "        degseq = [v for k, v in G.degree()]\n",
    "    dmax = max(degseq) + 1\n",
    "    freq = [0 for d in range(dmax)]\n",
    "    for d in degseq:\n",
    "        freq[d] += 1\n",
    "    return freq"
   ]
  },
  {
   "cell_type": "code",
   "execution_count": null,
   "id": "953998e3",
   "metadata": {},
   "outputs": [],
   "source": [
    "graph = small_1_graph\n",
    "\n",
    "in_degree_freq = degree_histogram_directed(graph, in_degree=True)\n",
    "out_degree_freq = degree_histogram_directed(graph, out_degree=True)\n",
    "\n",
    "print(in_degree_freq[1:])\n",
    "print(out_degree_freq[1:])\n",
    "\n",
    "plt.figure(figsize=(12, 4)) \n",
    "plt.plot(range(len(in_degree_freq[1:])), in_degree_freq[1:], \"go-\")\n",
    "plt.plot(range(len(out_degree_freq[1:])), out_degree_freq[1:], \"bo-\")\n",
    "\n",
    "plt.xlabel(\"Degree\")\n",
    "plt.ylabel(\"Frequency\")"
   ]
  },
  {
   "cell_type": "code",
   "execution_count": null,
   "id": "04d2bf5b",
   "metadata": {},
   "outputs": [],
   "source": [
    "graph = small_2_graph\n",
    "\n",
    "in_degree_freq = degree_histogram_directed(graph, in_degree=True)\n",
    "out_degree_freq = degree_histogram_directed(graph, out_degree=True)\n",
    "\n",
    "print(in_degree_freq[1:])\n",
    "print(out_degree_freq[1:])\n",
    "\n",
    "plt.figure(figsize=(12, 4)) \n",
    "plt.plot(range(len(in_degree_freq[1:])), in_degree_freq[1:], \"go-\")\n",
    "plt.plot(range(len(out_degree_freq[1:])), out_degree_freq[1:], \"bo-\")\n",
    "\n",
    "plt.xlabel(\"Degree\")\n",
    "plt.ylabel(\"Frequency\")"
   ]
  },
  {
   "cell_type": "code",
   "execution_count": null,
   "id": "76ef2e84",
   "metadata": {},
   "outputs": [],
   "source": [
    "graph = medium_graph\n",
    "\n",
    "in_degree_freq = degree_histogram_directed(graph, in_degree=True)\n",
    "out_degree_freq = degree_histogram_directed(graph, out_degree=True)\n",
    "\n",
    "print(in_degree_freq[1:])\n",
    "print(out_degree_freq[1:])\n",
    "\n",
    "plt.figure(figsize=(12, 4)) \n",
    "plt.plot(range(len(in_degree_freq[1:])), in_degree_freq[1:], \"go-\")\n",
    "plt.plot(range(len(out_degree_freq[1:])), out_degree_freq[1:], \"bo-\")\n",
    "\n",
    "plt.xlabel(\"Degree\")\n",
    "plt.ylabel(\"Frequency\")"
   ]
  },
  {
   "cell_type": "code",
   "execution_count": null,
   "id": "308e2a91",
   "metadata": {},
   "outputs": [],
   "source": [
    "graph = large_graph\n",
    "\n",
    "in_degree_freq = degree_histogram_directed(graph, in_degree=True)\n",
    "out_degree_freq = degree_histogram_directed(graph, out_degree=True)\n",
    "\n",
    "print(in_degree_freq[1:])\n",
    "print(out_degree_freq[1:])\n",
    "\n",
    "plt.figure(figsize=(12, 4)) \n",
    "plt.plot(range(len(in_degree_freq[1:])), in_degree_freq[1:], \"go-\")\n",
    "plt.plot(range(len(out_degree_freq[1:])), out_degree_freq[1:], \"bo-\")\n",
    "\n",
    "plt.xlabel(\"Degree\")\n",
    "plt.ylabel(\"Frequency\")"
   ]
  },
  {
   "cell_type": "markdown",
   "id": "638034a3",
   "metadata": {},
   "source": [
    "## Draw the networks"
   ]
  },
  {
   "cell_type": "code",
   "execution_count": null,
   "id": "72f592f8",
   "metadata": {},
   "outputs": [],
   "source": [
    "graph = small_1_graph\n",
    "\n",
    "pos = nx.spring_layout(graph)\n",
    "bet_cent = nx.betweenness_centrality(graph, normalized=True, endpoints=True)\n",
    "node_color = [20000 * graph.degree(node_id) for node_id in graph]\n",
    "node_size = [node_bc * 1000000 for node_bc in bet_cent.values()]\n",
    "plt.figure(figsize=(12, 8))\n",
    "nx.draw_networkx(graph, pos=pos, with_labels=False,\n",
    "                 edge_color=\"dimgray\",\n",
    "                 node_color=node_color,\n",
    "                 node_size=node_size)\n",
    "plt.axis('off')"
   ]
  },
  {
   "cell_type": "code",
   "execution_count": null,
   "id": "fa394173",
   "metadata": {},
   "outputs": [],
   "source": [
    "graph = small_2_graph\n",
    "\n",
    "pos = nx.spring_layout(graph)\n",
    "bet_cent = nx.betweenness_centrality(graph, normalized=True, endpoints=True)\n",
    "node_color = [20000 * graph.degree(node_id) for node_id in graph]\n",
    "node_size = [node_bc * 1000000 for node_bc in bet_cent.values()]\n",
    "plt.figure(figsize=(12, 8))\n",
    "nx.draw_networkx(graph, pos=pos, with_labels=False,\n",
    "                 edge_color=\"dimgray\",\n",
    "                 node_color=node_color,\n",
    "                 node_size=node_size)\n",
    "plt.axis('off')"
   ]
  },
  {
   "cell_type": "markdown",
   "id": "42dfd4e0",
   "metadata": {},
   "source": [
    "## Other metrics"
   ]
  },
  {
   "cell_type": "code",
   "execution_count": null,
   "id": "c8056042",
   "metadata": {},
   "outputs": [],
   "source": [
    "# Network Connectivity: degree\n",
    "\n",
    "# Degree of a node defines the number of connections a node has.\n",
    "# NetworkX has the function degree which we can use to determine the degree of a node in the network.\n",
    "\n",
    "nx.degree(graph, node_id)"
   ]
  },
  {
   "cell_type": "code",
   "execution_count": null,
   "id": "5a0974c9",
   "metadata": {},
   "outputs": [],
   "source": [
    "# Network Influencers: betweenness centrality\n",
    "\n",
    "bet_cent = nx.betweenness_centrality(graph, normalized=True, endpoints=True)\n",
    "\n",
    "# Print the labels of the nodes with the highest betweenness centrality.\n",
    "sorted(bet_cent, key=bet_cent.get, reverse=True)[:5]"
   ]
  }
 ],
 "metadata": {
  "kernelspec": {
   "display_name": "Python 3 (ipykernel)",
   "language": "python",
   "name": "python3"
  },
  "language_info": {
   "codemirror_mode": {
    "name": "ipython",
    "version": 3
   },
   "file_extension": ".py",
   "mimetype": "text/x-python",
   "name": "python",
   "nbconvert_exporter": "python",
   "pygments_lexer": "ipython3",
   "version": "3.8.10"
  }
 },
 "nbformat": 4,
 "nbformat_minor": 5
}
