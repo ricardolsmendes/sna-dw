{
 "cells": [
  {
   "cell_type": "markdown",
   "id": "0269bfa1",
   "metadata": {},
   "source": [
    "# Social Network Analysis applied to Data Warehouses\n",
    "\n",
    "## 4. Network Connectivity Analysis: Clustering\n",
    "\n",
    "The **clustering coefficient** is the number of links between a node and its adjacent ones, divided by the number of links that might exist between them. This measure shows how much the adjacent nodes would remain connected without the node itself. Zinoviev (2018) describes the clustering coefficient as a measure of \"stardom.\" If the clustering coefficient of a node is 1, the node participates in every possible triangle involving any pair of its neighbors. If the clustering coefficient of a node is 0, no two nodes in the neighborhood are connected. Therefore, tables with lower clustering coefficients are more critical in the Data Warehouse context."
   ]
  },
  {
   "cell_type": "markdown",
   "id": "413505b6",
   "metadata": {},
   "source": [
    "### 4.1. Import dependencies"
   ]
  },
  {
   "cell_type": "code",
   "execution_count": null,
   "id": "65bf2d3f",
   "metadata": {},
   "outputs": [],
   "source": [
    "import itertools\n",
    "from typing import Dict, List, Optional, Tuple\n",
    "\n",
    "import matplotlib.pyplot as plt\n",
    "import networkx as nx\n",
    "from networkx.classes.graph import Graph\n",
    "import numpy as np\n",
    "import pandas as pd\n",
    "from pandas import Series"
   ]
  },
  {
   "cell_type": "markdown",
   "id": "9d0d7495",
   "metadata": {},
   "source": [
    "### 4.2. Utility functions"
   ]
  },
  {
   "cell_type": "code",
   "execution_count": null,
   "id": "ff50ec1b",
   "metadata": {},
   "outputs": [],
   "source": [
    "def load_graph_from_csv(file: str) -> Graph:\n",
    "    return nx.read_edgelist(file, delimiter=\",\", create_using=nx.DiGraph)"
   ]
  },
  {
   "cell_type": "code",
   "execution_count": null,
   "id": "9b3241d2",
   "metadata": {},
   "outputs": [],
   "source": [
    "def format_graph_info(graph_id: str, graph: Graph) -> str:\n",
    "    return (\n",
    "        f\"{graph_id.upper()} GRAPH INFO:\\n\"\n",
    "        f\"  Number of nodes: {nx.number_of_nodes(graph)}\\n\"\n",
    "        f\"  Number of edges: {nx.number_of_edges(graph)}\\n\"\n",
    "        f\"  Density: {nx.density(graph)}\\n\"\n",
    "        f\"  Average clustering coefficient: {nx.average_clustering(graph)}\\n\"\n",
    "        f\"  Transitivity: {nx.transitivity(graph)}\"\n",
    "    )"
   ]
  },
  {
   "cell_type": "code",
   "execution_count": null,
   "id": "30788989",
   "metadata": {},
   "outputs": [],
   "source": [
    "def get_clustering(graph: Graph) -> Dict[str, float]:\n",
    "    return nx.clustering(graph)"
   ]
  },
  {
   "cell_type": "code",
   "execution_count": null,
   "id": "7b100b47",
   "metadata": {},
   "outputs": [],
   "source": [
    "def get_clustering_list(clustering: Dict[str, float]) -> List[float]:\n",
    "    return [clust_coef for _, clust_coef in clustering.items()]"
   ]
  },
  {
   "cell_type": "code",
   "execution_count": null,
   "id": "432e808e",
   "metadata": {},
   "outputs": [],
   "source": [
    "def get_clustering_series(clustering: Dict[str, float]) -> Series:\n",
    "    return pd.Series(get_clustering_list(clustering))"
   ]
  },
  {
   "cell_type": "code",
   "execution_count": null,
   "id": "19e30ddb",
   "metadata": {},
   "outputs": [],
   "source": [
    "def draw_clustering_based_network(graph: Graph, clustering: Dict[str, float]) -> None:\n",
    "    sorted_clustering = sorted(get_clustering_list(clustering))\n",
    "\n",
    "    lowest_non_zero_clust_coef = next(\n",
    "        clust_coef for clust_coef in sorted_clustering if clust_coef > 0\n",
    "    )\n",
    "    highest_clust_coef = sorted_clustering[-1]\n",
    "    scaling_factor = 3500 / highest_clust_coef\n",
    "\n",
    "    normalized_node_params = [\n",
    "        (clust_coef or (lowest_non_zero_clust_coef / 10)) * scaling_factor\n",
    "        for clust_coef in sorted_clustering\n",
    "    ]\n",
    "\n",
    "    plt.figure(figsize=(12, 8))\n",
    "    nx.draw_networkx(\n",
    "        graph,\n",
    "        pos=nx.spring_layout(graph),\n",
    "        with_labels=False,\n",
    "        edge_color=\"dimgray\",\n",
    "        node_color=normalized_node_params,\n",
    "        node_size=normalized_node_params,\n",
    "    )\n",
    "    plt.axis(\"off\")"
   ]
  },
  {
   "cell_type": "code",
   "execution_count": null,
   "id": "8f483a8f",
   "metadata": {},
   "outputs": [],
   "source": [
    "def plot_clustering_descriptive_stats(clustering: Dict[str, float], color: str) -> None:\n",
    "    clustering_list = get_clustering_list(clustering)\n",
    "\n",
    "    plt.figure(figsize=(12, 3))\n",
    "    plt.boxplot(clustering_list, vert=False, flierprops=dict(markerfacecolor=color))\n",
    "    plt.xlabel(\"Clustering\")"
   ]
  },
  {
   "cell_type": "code",
   "execution_count": null,
   "id": "ac23cce0",
   "metadata": {},
   "outputs": [],
   "source": [
    "def plot_clustering_ranking(\n",
    "    clustering: Dict[str, float], fmt: str, stop_at: Optional[float] = None\n",
    ") -> None:\n",
    "    sorted_clustering = sorted(get_clustering_list(clustering))\n",
    "\n",
    "    stop_at_index = 0\n",
    "    if stop_at is None:\n",
    "        stop_at_index = len(sorted_clustering) - 1\n",
    "    else:\n",
    "        stop_at_index = sorted_clustering.index(stop_at)\n",
    "        while sorted_clustering[stop_at_index] == sorted_clustering[stop_at_index + 1]:\n",
    "            stop_at_index += 1\n",
    "\n",
    "    adjusted_list = [None]\n",
    "    adjusted_list.extend(sorted_clustering[: stop_at_index + 1])\n",
    "\n",
    "    plt.figure(figsize=(12, 3))\n",
    "    plt.plot(adjusted_list, fmt)\n",
    "    plt.xlabel(\"Rank\")\n",
    "    plt.ylabel(\"Clustering Coefficient\")"
   ]
  },
  {
   "cell_type": "code",
   "execution_count": null,
   "id": "85d43525",
   "metadata": {},
   "outputs": [],
   "source": [
    "def group_nodes_by_clustering(clustering: Dict[str, float]) -> Dict[float, List[str]]:\n",
    "    clustering_list = get_clustering_list(clustering)\n",
    "    unique_clustering = sorted(np.unique(clustering_list))\n",
    "    sorted_clustering_dict = {}\n",
    "    for value in unique_clustering:\n",
    "        sorted_clustering_dict[value] = sorted(\n",
    "            [node for node, cl in clustering.items() if cl == value]\n",
    "        )\n",
    "    return sorted_clustering_dict"
   ]
  },
  {
   "cell_type": "code",
   "execution_count": null,
   "id": "1af4dca3",
   "metadata": {},
   "outputs": [],
   "source": [
    "def get_clustering_critical_nodes_for_count(\n",
    "    clustering: Dict[str, float], target_node_count\n",
    ") -> Tuple[Dict[int, List[str]], float]:\n",
    "    node_count = 0\n",
    "    cl_groups = group_nodes_by_clustering(clustering)\n",
    "\n",
    "    group_count = 0\n",
    "    while node_count < target_node_count:\n",
    "        group_count += 1\n",
    "        lowest_cl = dict(itertools.islice(cl_groups.items(), group_count))\n",
    "        node_count = sum([len(nodes) for _, nodes in lowest_cl.items()])\n",
    "\n",
    "    print(f\"{group_count}-critical-groups node count: {node_count}\\n\")\n",
    "\n",
    "    return lowest_cl, node_count"
   ]
  },
  {
   "cell_type": "code",
   "execution_count": null,
   "id": "20f1aba4",
   "metadata": {},
   "outputs": [],
   "source": [
    "def plot_clustering_bars(out_degrees: Dict[int, List[str]], graph: Graph) -> None:\n",
    "    nodes = []\n",
    "    clustering = []\n",
    "    for degree, nodes_list in out_degrees.items():\n",
    "        for node in nodes_list:\n",
    "            nodes.append(node)\n",
    "            clustering.append(nx.clustering(graph, node))\n",
    "\n",
    "    colors = plt.cm.viridis(np.random.rand(len(nodes)))\n",
    "\n",
    "    plt.figure(figsize=(12, 3))\n",
    "    plt.bar(nodes, clustering, label=nodes, color=colors)\n",
    "    plt.xlabel(\"Node\")\n",
    "    plt.xticks(rotation=50)\n",
    "    plt.ylabel(\"Clustering Coefficient\")\n",
    "    plt.show()"
   ]
  },
  {
   "cell_type": "code",
   "execution_count": null,
   "id": "3de25d56",
   "metadata": {},
   "outputs": [],
   "source": [
    "def plot_clustering_versus_out_degree(\n",
    "    out_degrees: Dict[int, List[str]], graph: Graph, min_degree_for_text: int\n",
    ") -> None:\n",
    "    nodes = []\n",
    "    degrees = []\n",
    "    clustering = []\n",
    "    for degree, nodes_list in out_degrees.items():\n",
    "        for node in nodes_list:\n",
    "            nodes.append(node)\n",
    "            degrees.append(degree)\n",
    "            clustering.append(nx.clustering(graph, node))\n",
    "\n",
    "    colors = plt.cm.viridis(np.random.rand(len(degrees)))\n",
    "\n",
    "    plt.figure(figsize=(12, 8))\n",
    "    plt.scatter(degrees, clustering, s=200, c=colors)\n",
    "    for index in range(len(degrees)):\n",
    "        if degrees[index] >= min_degree_for_text:\n",
    "            plt.text(degrees[index], clustering[index], s=nodes[index])\n",
    "    plt.xlabel(\"Out-degree\")\n",
    "    plt.ylabel(\"Clustering Coefficient\")\n",
    "    plt.ylim([-0.005, max(clustering) + 0.04])\n",
    "    plt.show()"
   ]
  },
  {
   "cell_type": "markdown",
   "id": "eea34228",
   "metadata": {},
   "source": [
    "### 4.3. Load the anonymized graphs from CSV and cache their Clustering data"
   ]
  },
  {
   "cell_type": "code",
   "execution_count": null,
   "id": "fa79102b",
   "metadata": {},
   "outputs": [],
   "source": [
    "anon_data_folder = \"../data/anonymized\"\n",
    "\n",
    "small_graph_1 = load_graph_from_csv(f\"{anon_data_folder}/anon-dataset-small_1.csv\")\n",
    "print(f'{format_graph_info(\"small(1)\", small_graph_1)}\\n')\n",
    "\n",
    "small_graph_2 = load_graph_from_csv(f\"{anon_data_folder}/anon-dataset-small_2.csv\")\n",
    "print(f'{format_graph_info(\"small(2)\", small_graph_2)}\\n')\n",
    "\n",
    "medium_graph = load_graph_from_csv(f\"{anon_data_folder}/anon-dataset-medium.csv\")\n",
    "print(f'{format_graph_info(\"medium\", medium_graph)}\\n')\n",
    "\n",
    "large_graph = load_graph_from_csv(f\"{anon_data_folder}/anon-dataset-large.csv\")\n",
    "print(f'{format_graph_info(\"large\", large_graph)}')"
   ]
  },
  {
   "cell_type": "code",
   "execution_count": null,
   "id": "1eb0c8a0",
   "metadata": {},
   "outputs": [],
   "source": [
    "small_graph_1_cl = get_clustering(small_graph_1)\n",
    "small_graph_2_cl = get_clustering(small_graph_2)\n",
    "medium_graph_cl = get_clustering(medium_graph)\n",
    "large_graph_cl = get_clustering(large_graph)"
   ]
  },
  {
   "cell_type": "markdown",
   "id": "55056f24",
   "metadata": {},
   "source": [
    "### 4.4. Draw the networks, plot Clustering data, etc"
   ]
  },
  {
   "cell_type": "markdown",
   "id": "84c03d72",
   "metadata": {},
   "source": [
    "#### 4.4.1. Small network 1"
   ]
  },
  {
   "cell_type": "code",
   "execution_count": null,
   "id": "b636f7c0",
   "metadata": {},
   "outputs": [],
   "source": [
    "draw_clustering_based_network(small_graph_1, small_graph_1_cl)"
   ]
  },
  {
   "cell_type": "code",
   "execution_count": null,
   "id": "de935dd5",
   "metadata": {},
   "outputs": [],
   "source": [
    "sg_1_clustering_series = get_clustering_series(small_graph_1_cl)\n",
    "print(sg_1_clustering_series.describe())"
   ]
  },
  {
   "cell_type": "markdown",
   "id": "18171dc0",
   "metadata": {},
   "source": [
    "Different from what was observed in the out-degree and betweenness centrality analyses, the research shows that the clustering coefficient, per se, is not a convenient metric to determine critical assets in Data Warehouses. This is because many assets have the same clustering coefficient in each dataset. The first clue about this behavior comes from the standard deviations, close to zero, in all datasets"
   ]
  },
  {
   "cell_type": "code",
   "execution_count": null,
   "id": "5a0974c9",
   "metadata": {
    "scrolled": true
   },
   "outputs": [],
   "source": [
    "plot_clustering_descriptive_stats(small_graph_1_cl, \"red\")"
   ]
  },
  {
   "cell_type": "markdown",
   "id": "2401f48e",
   "metadata": {},
   "source": [
    "It becomes more evident when trying to rank the assets according to the clustering coefficient, using a similar approach from the previous analyses but using ascending order in this specific case. The below chart illustrates a pattern found in all four datasets: A considerable number of assets with clustering coefficients equal to zero, making it impractical to determine the most important ones relying solely on this metric."
   ]
  },
  {
   "cell_type": "code",
   "execution_count": null,
   "id": "ac43279e",
   "metadata": {
    "scrolled": true
   },
   "outputs": [],
   "source": [
    "plot_clustering_ranking(small_graph_1_cl, \"ro-\")"
   ]
  },
  {
   "cell_type": "code",
   "execution_count": null,
   "id": "070dde12",
   "metadata": {},
   "outputs": [],
   "source": [
    "sg_1_critical_groups, _ = get_clustering_critical_nodes_for_count(small_graph_1_cl, 10)"
   ]
  },
  {
   "cell_type": "code",
   "execution_count": null,
   "id": "4c54d027",
   "metadata": {},
   "outputs": [],
   "source": [
    "plot_clustering_ranking(\n",
    "    small_graph_1_cl,\n",
    "    \"ro-\",\n",
    "    stop_at=list(sg_1_critical_groups.keys())[-1],\n",
    ")"
   ]
  },
  {
   "cell_type": "code",
   "execution_count": null,
   "id": "4112fb62",
   "metadata": {},
   "outputs": [],
   "source": [
    "sg1_highest_out_degrees = {\n",
    "    27: [\"10007\"],\n",
    "    25: [\"10025\"],\n",
    "    15: [\"10060\"],\n",
    "    14: [\"10020\"],\n",
    "    13: [\"10131\"],\n",
    "    12: [\"10014\", \"10275\", \"10373\"],\n",
    "    11: [\"10059\", \"10115\"],\n",
    "    10: [\"10062\", \"10073\", \"10085\", \"10191\"],\n",
    "}"
   ]
  },
  {
   "cell_type": "code",
   "execution_count": null,
   "id": "cf724a58",
   "metadata": {},
   "outputs": [],
   "source": [
    "plot_clustering_bars(sg1_highest_out_degrees, small_graph_1)"
   ]
  },
  {
   "cell_type": "code",
   "execution_count": null,
   "id": "c3d80ccd",
   "metadata": {},
   "outputs": [],
   "source": [
    "plot_clustering_versus_out_degree(\n",
    "    sg1_highest_out_degrees, small_graph_1, min_degree_for_text=13\n",
    ")"
   ]
  },
  {
   "cell_type": "markdown",
   "id": "b3cc7ade",
   "metadata": {},
   "source": [
    "#### 4.4.2. Small network 2"
   ]
  },
  {
   "cell_type": "code",
   "execution_count": null,
   "id": "ac2567db",
   "metadata": {
    "scrolled": false
   },
   "outputs": [],
   "source": [
    "draw_clustering_based_network(small_graph_2, small_graph_2_cl)"
   ]
  },
  {
   "cell_type": "code",
   "execution_count": null,
   "id": "465f038d",
   "metadata": {},
   "outputs": [],
   "source": [
    "sg_2_clustering_series = get_clustering_series(small_graph_2_cl)\n",
    "print(sg_2_clustering_series.describe())"
   ]
  },
  {
   "cell_type": "code",
   "execution_count": null,
   "id": "2440ba30",
   "metadata": {},
   "outputs": [],
   "source": [
    "plot_clustering_descriptive_stats(small_graph_2_cl, \"blue\")"
   ]
  },
  {
   "cell_type": "code",
   "execution_count": null,
   "id": "3f0e9028",
   "metadata": {},
   "outputs": [],
   "source": [
    "plot_clustering_ranking(small_graph_2_cl, \"bo-\")"
   ]
  },
  {
   "cell_type": "code",
   "execution_count": null,
   "id": "da8aceb5",
   "metadata": {},
   "outputs": [],
   "source": [
    "sg_2_critical_groups, _ = get_clustering_critical_nodes_for_count(small_graph_2_cl, 10)"
   ]
  },
  {
   "cell_type": "code",
   "execution_count": null,
   "id": "bcac0596",
   "metadata": {},
   "outputs": [],
   "source": [
    "plot_clustering_ranking(\n",
    "    small_graph_2_cl,\n",
    "    \"bo-\",\n",
    "    stop_at=list(sg_2_critical_groups.keys())[-1],\n",
    ")"
   ]
  },
  {
   "cell_type": "code",
   "execution_count": null,
   "id": "8d7e251a",
   "metadata": {},
   "outputs": [],
   "source": [
    "sg2_highest_out_degrees = {\n",
    "    19: [\"20026\"],\n",
    "    15: [\"20040\", \"20044\", \"20101\", \"20295\"],\n",
    "    14: [\"20071\", \"20110\", \"20214\", \"20349\"],\n",
    "    13: [\"20017\", \"20069\", \"20098\", \"20168\", \"20184\"],\n",
    "    12: [\"20174\", \"20332\"],\n",
    "    11: [\"20031\", \"20086\", \"20094\", \"20136\", \"20229\"],\n",
    "    10: [\n",
    "        \"20012\",\n",
    "        \"20030\",\n",
    "        \"20049\",\n",
    "        \"20074\",\n",
    "        \"20109\",\n",
    "        \"20145\",\n",
    "        \"20158\",\n",
    "        \"20283\",\n",
    "        \"20350\",\n",
    "        \"20379\",\n",
    "    ],\n",
    "}"
   ]
  },
  {
   "cell_type": "code",
   "execution_count": null,
   "id": "0a67c3bb",
   "metadata": {},
   "outputs": [],
   "source": [
    "plot_clustering_bars(sg2_highest_out_degrees, small_graph_2)"
   ]
  },
  {
   "cell_type": "code",
   "execution_count": null,
   "id": "649342c0",
   "metadata": {},
   "outputs": [],
   "source": [
    "plot_clustering_versus_out_degree(\n",
    "    sg2_highest_out_degrees, small_graph_2, min_degree_for_text=14\n",
    ")"
   ]
  },
  {
   "cell_type": "code",
   "execution_count": null,
   "id": "a4fdf20b",
   "metadata": {},
   "outputs": [],
   "source": [
    "nodes = []\n",
    "clustering = []\n",
    "for degree, nodes_list in sg2_highest_out_degrees.items():\n",
    "    for node in nodes_list:\n",
    "        print(\n",
    "            f\"Node {node}'s clustering coefficient: {nx.clustering(small_graph_2, node)}\"\n",
    "        )"
   ]
  },
  {
   "cell_type": "markdown",
   "id": "43034e6a",
   "metadata": {},
   "source": [
    "#### 4.4.3. Medium network"
   ]
  },
  {
   "cell_type": "code",
   "execution_count": null,
   "id": "77a986e6",
   "metadata": {},
   "outputs": [],
   "source": [
    "draw_clustering_based_network(medium_graph, medium_graph_cl)"
   ]
  },
  {
   "cell_type": "code",
   "execution_count": null,
   "id": "879b17d5",
   "metadata": {},
   "outputs": [],
   "source": [
    "mg_clustering_series = get_clustering_series(medium_graph_cl)\n",
    "print(mg_clustering_series.describe())"
   ]
  },
  {
   "cell_type": "code",
   "execution_count": null,
   "id": "1d5b2884",
   "metadata": {},
   "outputs": [],
   "source": [
    "plot_clustering_descriptive_stats(medium_graph_cl, \"green\")"
   ]
  },
  {
   "cell_type": "code",
   "execution_count": null,
   "id": "5570d911",
   "metadata": {},
   "outputs": [],
   "source": [
    "plot_clustering_ranking(medium_graph_cl, \"go-\")"
   ]
  },
  {
   "cell_type": "code",
   "execution_count": null,
   "id": "7bdacc85",
   "metadata": {},
   "outputs": [],
   "source": [
    "mg_critical_groups, _ = get_clustering_critical_nodes_for_count(medium_graph_cl, 10)"
   ]
  },
  {
   "cell_type": "code",
   "execution_count": null,
   "id": "0c61f50e",
   "metadata": {},
   "outputs": [],
   "source": [
    "plot_clustering_ranking(\n",
    "    medium_graph_cl,\n",
    "    \"go-\",\n",
    "    stop_at=list(mg_critical_groups.keys())[-1],\n",
    ")"
   ]
  },
  {
   "cell_type": "code",
   "execution_count": null,
   "id": "ecc42cf8",
   "metadata": {},
   "outputs": [],
   "source": [
    "mg_highest_out_degrees = {\n",
    "    48: [\"301958\"],\n",
    "    34: [\"300269\"],\n",
    "    16: [\"300076\", \"300576\"],\n",
    "    15: [\"301011\"],\n",
    "    14: [\"300191\", \"300346\"],\n",
    "    13: [\"300395\", \"300979\"],\n",
    "    12: [\"300078\", \"301618\", \"302271\", \"303001\", \"304266\"],\n",
    "    11: [\"300658\", \"302329\", \"303059\"],\n",
    "    10: [\n",
    "        \"300310\",\n",
    "        \"300324\",\n",
    "        \"300423\",\n",
    "        \"300546\",\n",
    "        \"300834\",\n",
    "        \"300873\",\n",
    "        \"301062\",\n",
    "        \"301776\",\n",
    "        \"302040\",\n",
    "        \"302118\",\n",
    "        \"302268\",\n",
    "        \"302314\",\n",
    "        \"302490\",\n",
    "        \"302822\",\n",
    "        \"303505\",\n",
    "    ],\n",
    "}"
   ]
  },
  {
   "cell_type": "code",
   "execution_count": null,
   "id": "747bffd4",
   "metadata": {},
   "outputs": [],
   "source": [
    "plot_clustering_bars(mg_highest_out_degrees, medium_graph)"
   ]
  },
  {
   "cell_type": "code",
   "execution_count": null,
   "id": "e7e21813",
   "metadata": {},
   "outputs": [],
   "source": [
    "plot_clustering_versus_out_degree(\n",
    "    mg_highest_out_degrees, medium_graph, min_degree_for_text=14\n",
    ")"
   ]
  },
  {
   "cell_type": "markdown",
   "id": "38753483",
   "metadata": {},
   "source": [
    "#### 4.4.4. Large network"
   ]
  },
  {
   "cell_type": "code",
   "execution_count": null,
   "id": "301fff63",
   "metadata": {},
   "outputs": [],
   "source": [
    "draw_clustering_based_network(large_graph, large_graph_cl)"
   ]
  },
  {
   "cell_type": "code",
   "execution_count": null,
   "id": "37dd7c15",
   "metadata": {},
   "outputs": [],
   "source": [
    "lg_clustering_series = get_clustering_series(large_graph_cl)\n",
    "print(lg_clustering_series.describe())"
   ]
  },
  {
   "cell_type": "code",
   "execution_count": null,
   "id": "13440774",
   "metadata": {},
   "outputs": [],
   "source": [
    "plot_clustering_descriptive_stats(large_graph_cl, \"magenta\")"
   ]
  },
  {
   "cell_type": "code",
   "execution_count": null,
   "id": "2b6a83a2",
   "metadata": {
    "scrolled": false
   },
   "outputs": [],
   "source": [
    "plot_clustering_ranking(large_graph_cl, \"mo-\")"
   ]
  },
  {
   "cell_type": "code",
   "execution_count": null,
   "id": "0eda28ab",
   "metadata": {},
   "outputs": [],
   "source": [
    "lg_critical_groups, _ = get_clustering_critical_nodes_for_count(large_graph_cl, 10)"
   ]
  },
  {
   "cell_type": "code",
   "execution_count": null,
   "id": "71056d29",
   "metadata": {},
   "outputs": [],
   "source": [
    "plot_clustering_ranking(\n",
    "    large_graph_cl,\n",
    "    \"mo-\",\n",
    "    stop_at=list(lg_critical_groups.keys())[-1],\n",
    ")"
   ]
  },
  {
   "cell_type": "code",
   "execution_count": null,
   "id": "5df686f7",
   "metadata": {},
   "outputs": [],
   "source": [
    "lg_highest_out_degrees = {\n",
    "    692: [\"4000092\"],\n",
    "    413: [\"4000064\"],\n",
    "    241: [\"4000015\"],\n",
    "    178: [\"4000044\"],\n",
    "    139: [\"4000766\"],\n",
    "    137: [\"4000270\"],\n",
    "    132: [\"4000272\"],\n",
    "    121: [\"4000109\"],\n",
    "    111: [\"4000995\"],\n",
    "    90: [\"4000312\"],\n",
    "    83: [\"4000562\"],\n",
    "    79: [\"4000144\", \"4000473\"],\n",
    "    77: [\"4000013\"],\n",
    "    74: [\"4000157\"],\n",
    "    71: [\"4000624\"],\n",
    "    68: [\"4000094\"],\n",
    "    61: [\"4000944\"],\n",
    "    60: [\"4000118\", \"4000487\"],\n",
    "    59: [\"4000492\"],\n",
    "    57: [\"4001442\"],\n",
    "    54: [\"4001822\"],\n",
    "    52: [\"4000329\"],\n",
    "    49: [\"4000426\"],\n",
    "    44: [\"4000017\", \"4001955\"],\n",
    "    43: [\"4001683\"],\n",
    "    42: [\"4000011\"],\n",
    "    41: [\"4000288\"],\n",
    "}"
   ]
  },
  {
   "cell_type": "code",
   "execution_count": null,
   "id": "7d7875de",
   "metadata": {},
   "outputs": [],
   "source": [
    "plot_clustering_bars(lg_highest_out_degrees, large_graph)"
   ]
  },
  {
   "cell_type": "code",
   "execution_count": null,
   "id": "c91c973c",
   "metadata": {},
   "outputs": [],
   "source": [
    "plot_clustering_versus_out_degree(\n",
    "    lg_highest_out_degrees, large_graph, min_degree_for_text=130\n",
    ")"
   ]
  }
 ],
 "metadata": {
  "kernelspec": {
   "display_name": "Python 3 (ipykernel)",
   "language": "python",
   "name": "python3"
  },
  "language_info": {
   "codemirror_mode": {
    "name": "ipython",
    "version": 3
   },
   "file_extension": ".py",
   "mimetype": "text/x-python",
   "name": "python",
   "nbconvert_exporter": "python",
   "pygments_lexer": "ipython3",
   "version": "3.8.16"
  }
 },
 "nbformat": 4,
 "nbformat_minor": 5
}
