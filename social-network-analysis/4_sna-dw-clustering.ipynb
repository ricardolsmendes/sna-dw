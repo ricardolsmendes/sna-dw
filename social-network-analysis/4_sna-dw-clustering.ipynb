{
 "cells": [
  {
   "cell_type": "markdown",
   "id": "0269bfa1",
   "metadata": {},
   "source": [
    "# Social Network Analysis applied to Data Warehouses\n",
    "\n",
    "## 4. Network Connectivity Analysis: Clustering\n",
    "\n",
    "The **Clustering Coefficient** measures the prevalence of tringles in an egocentric network. The Clustering Coefficient is the fraction of possible triangles tha"
   ]
  },
  {
   "cell_type": "markdown",
   "id": "413505b6",
   "metadata": {},
   "source": [
    "### 4.1. Import dependencies"
   ]
  },
  {
   "cell_type": "code",
   "execution_count": null,
   "id": "65bf2d3f",
   "metadata": {},
   "outputs": [],
   "source": [
    "from typing import Dict, List\n",
    "\n",
    "import matplotlib.pyplot as plt\n",
    "import networkx as nx\n",
    "from networkx.classes.graph import Graph\n",
    "import pandas as pd\n",
    "from pandas import Series"
   ]
  },
  {
   "cell_type": "markdown",
   "id": "9d0d7495",
   "metadata": {},
   "source": [
    "### 4.2. Utility functions"
   ]
  },
  {
   "cell_type": "code",
   "execution_count": null,
   "id": "ff50ec1b",
   "metadata": {},
   "outputs": [],
   "source": [
    "def load_graph_from_csv(file: str) -> Graph:\n",
    "    return nx.read_edgelist(file, delimiter=\",\", create_using=nx.DiGraph)"
   ]
  },
  {
   "cell_type": "code",
   "execution_count": null,
   "id": "9b3241d2",
   "metadata": {},
   "outputs": [],
   "source": [
    "def format_graph_info(graph_id: str, graph: Graph) -> str:\n",
    "    return (\n",
    "        f\"{graph_id.upper()} GRAPH INFO:\\n\"\n",
    "        f\"  Number of nodes: {nx.number_of_nodes(graph)}\\n\"\n",
    "        f\"  Number of edges: {nx.number_of_edges(graph)}\\n\"\n",
    "        f\"  Density: {nx.density(graph)}\\n\"\n",
    "        f\"  Average clustering coefficient: {nx.average_clustering(graph)}\\n\"\n",
    "        f\"  Transitivity: {nx.transitivity(graph)}\"\n",
    "    )"
   ]
  },
  {
   "cell_type": "code",
   "execution_count": null,
   "id": "30788989",
   "metadata": {},
   "outputs": [],
   "source": [
    "def get_clustering(graph: Graph) -> Dict[str, float]:\n",
    "    return nx.clustering(graph)"
   ]
  },
  {
   "cell_type": "code",
   "execution_count": null,
   "id": "7b100b47",
   "metadata": {},
   "outputs": [],
   "source": [
    "def get_clustering_list(clustering: Dict[str, float]) -> List[float]:\n",
    "    return [clust_coef for _, clust_coef in clustering.items()]"
   ]
  },
  {
   "cell_type": "code",
   "execution_count": null,
   "id": "432e808e",
   "metadata": {},
   "outputs": [],
   "source": [
    "def get_clustering_series(clustering: Dict[str, float]) -> Series:\n",
    "    return pd.Series(get_clustering_list(clustering))"
   ]
  },
  {
   "cell_type": "code",
   "execution_count": null,
   "id": "19e30ddb",
   "metadata": {},
   "outputs": [],
   "source": [
    "def draw_clustering_based_network(graph: Graph, clustering: Dict[str, float]) -> None:\n",
    "    sorted_clustering = sorted(get_clustering_list(clustering))\n",
    "\n",
    "    lowest_non_zero_clust_coef = next(\n",
    "        clust_coef for clust_coef in sorted_clustering if clust_coef > 0\n",
    "    )\n",
    "    highest_clust_coef = sorted_clustering[-1]\n",
    "    scaling_factor = 3500 / highest_clust_coef\n",
    "\n",
    "    normalized_node_params = [\n",
    "        (clust_coef or (lowest_non_zero_clust_coef / 10)) * scaling_factor\n",
    "        for clust_coef in sorted_clustering\n",
    "    ]\n",
    "\n",
    "    pos = nx.spring_layout(graph)\n",
    "    plt.figure(figsize=(12, 8))\n",
    "    nx.draw_networkx(\n",
    "        graph,\n",
    "        pos=pos,\n",
    "        with_labels=False,\n",
    "        edge_color=\"dimgray\",\n",
    "        node_color=normalized_node_params,\n",
    "        node_size=normalized_node_params,\n",
    "    )\n",
    "    plt.axis(\"off\")"
   ]
  },
  {
   "cell_type": "code",
   "execution_count": null,
   "id": "8f483a8f",
   "metadata": {},
   "outputs": [],
   "source": [
    "def plot_clustering_descriptive_stats(clustering: Dict[str, float], color: str) -> None:\n",
    "    clustering_list = get_clustering_list(clustering)\n",
    "\n",
    "    plt.figure(figsize=(12, 3))\n",
    "    plt.boxplot(clustering_list, vert=False, flierprops=dict(markerfacecolor=color))\n",
    "    plt.xlabel(\"Clustering\")"
   ]
  },
  {
   "cell_type": "code",
   "execution_count": null,
   "id": "ac23cce0",
   "metadata": {},
   "outputs": [],
   "source": [
    "def plot_clustering_ranking(\n",
    "    clustering: Dict[str, float], fmt: str, stop_at: float = 0\n",
    ") -> None:\n",
    "    sorted_clustering = sorted(get_clustering_list(clustering), reverse=True)\n",
    "\n",
    "    if stop_at:\n",
    "        stop_at_index = sorted_clustering.index(stop_at)\n",
    "        while sorted_clustering[stop_at_index] == sorted_clustering[stop_at_index + 1]:\n",
    "            stop_at_index += 1\n",
    "\n",
    "    adjusted_list = [None]\n",
    "    adjusted_list.extend(\n",
    "        sorted_clustering[: stop_at_index + 1] if stop_at else sorted_clustering\n",
    "    )\n",
    "\n",
    "    plt.figure(figsize=(12, 3))\n",
    "    plt.plot(adjusted_list, fmt)\n",
    "    plt.xlabel(\"Rank\")\n",
    "    plt.ylabel(\"Clustering\")"
   ]
  },
  {
   "cell_type": "markdown",
   "id": "eea34228",
   "metadata": {},
   "source": [
    "### 4.3. Load the anonymized graphs from CSV and cache their Clustering data"
   ]
  },
  {
   "cell_type": "code",
   "execution_count": null,
   "id": "fa79102b",
   "metadata": {},
   "outputs": [],
   "source": [
    "anon_data_folder = \"../data/anonymized\"\n",
    "\n",
    "small_graph_1 = load_graph_from_csv(f\"{anon_data_folder}/anon-dataset-small_1.csv\")\n",
    "print(f'{format_graph_info(\"small(1)\", small_graph_1)}\\n')\n",
    "\n",
    "small_graph_2 = load_graph_from_csv(f\"{anon_data_folder}/anon-dataset-small_2.csv\")\n",
    "print(f'{format_graph_info(\"small(2)\", small_graph_2)}\\n')\n",
    "\n",
    "medium_graph = load_graph_from_csv(f\"{anon_data_folder}/anon-dataset-medium.csv\")\n",
    "print(f'{format_graph_info(\"medium\", medium_graph)}\\n')\n",
    "\n",
    "large_graph = load_graph_from_csv(f\"{anon_data_folder}/anon-dataset-large.csv\")\n",
    "print(f'{format_graph_info(\"large\", large_graph)}')"
   ]
  },
  {
   "cell_type": "code",
   "execution_count": null,
   "id": "1eb0c8a0",
   "metadata": {},
   "outputs": [],
   "source": [
    "small_graph_1_cl = get_clustering(small_graph_1)\n",
    "small_graph_2_cl = get_clustering(small_graph_2)\n",
    "medium_graph_cl = get_clustering(medium_graph)\n",
    "large_graph_cl = get_clustering(large_graph)"
   ]
  },
  {
   "cell_type": "markdown",
   "id": "55056f24",
   "metadata": {},
   "source": [
    "### 4.4. Draw the networks, plot Clustering data, etc"
   ]
  },
  {
   "cell_type": "markdown",
   "id": "84c03d72",
   "metadata": {},
   "source": [
    "#### 4.4.1. Small network 1"
   ]
  },
  {
   "cell_type": "code",
   "execution_count": null,
   "id": "b636f7c0",
   "metadata": {},
   "outputs": [],
   "source": [
    "draw_clustering_based_network(small_graph_1, small_graph_1_cl)"
   ]
  },
  {
   "cell_type": "code",
   "execution_count": null,
   "id": "de935dd5",
   "metadata": {},
   "outputs": [],
   "source": [
    "sg_1_clustering_series = get_clustering_series(small_graph_1_cl)\n",
    "print(sg_1_clustering_series.describe())"
   ]
  },
  {
   "cell_type": "code",
   "execution_count": null,
   "id": "5a0974c9",
   "metadata": {},
   "outputs": [],
   "source": [
    "plot_clustering_descriptive_stats(small_graph_1_cl, \"blue\")"
   ]
  },
  {
   "cell_type": "code",
   "execution_count": null,
   "id": "ac43279e",
   "metadata": {},
   "outputs": [],
   "source": [
    "plot_clustering_ranking(small_graph_1_cl, \"bo-\")"
   ]
  },
  {
   "cell_type": "code",
   "execution_count": null,
   "id": "070dde12",
   "metadata": {},
   "outputs": [],
   "source": [
    "plot_clustering_ranking(\n",
    "    small_graph_1_cl,\n",
    "    \"bo-\",\n",
    "    stop_at=sg_1_clustering_series.quantile(0.97, interpolation=\"nearest\"),\n",
    ")"
   ]
  },
  {
   "cell_type": "markdown",
   "id": "b3cc7ade",
   "metadata": {},
   "source": [
    "#### 4.4.2. Small network 2"
   ]
  },
  {
   "cell_type": "code",
   "execution_count": null,
   "id": "ac2567db",
   "metadata": {
    "scrolled": false
   },
   "outputs": [],
   "source": [
    "draw_clustering_based_network(small_graph_2, small_graph_2_cl)"
   ]
  },
  {
   "cell_type": "code",
   "execution_count": null,
   "id": "465f038d",
   "metadata": {},
   "outputs": [],
   "source": [
    "sg_2_clustering_series = get_clustering_series(small_graph_2_cl)\n",
    "print(sg_2_clustering_series.describe())"
   ]
  },
  {
   "cell_type": "code",
   "execution_count": null,
   "id": "2440ba30",
   "metadata": {},
   "outputs": [],
   "source": [
    "plot_clustering_descriptive_stats(small_graph_2_cl, \"red\")"
   ]
  },
  {
   "cell_type": "code",
   "execution_count": null,
   "id": "3f0e9028",
   "metadata": {},
   "outputs": [],
   "source": [
    "plot_clustering_ranking(small_graph_2_cl, \"ro-\")"
   ]
  },
  {
   "cell_type": "code",
   "execution_count": null,
   "id": "bcac0596",
   "metadata": {},
   "outputs": [],
   "source": [
    "plot_clustering_ranking(\n",
    "    small_graph_2_cl,\n",
    "    \"ro-\",\n",
    "    stop_at=sg_2_clustering_series.quantile(0.997, interpolation=\"nearest\"),\n",
    ")"
   ]
  },
  {
   "cell_type": "markdown",
   "id": "43034e6a",
   "metadata": {},
   "source": [
    "#### 4.4.3. Medium network"
   ]
  },
  {
   "cell_type": "code",
   "execution_count": null,
   "id": "77a986e6",
   "metadata": {},
   "outputs": [],
   "source": [
    "draw_clustering_based_network(medium_graph, medium_graph_cl)"
   ]
  },
  {
   "cell_type": "code",
   "execution_count": null,
   "id": "879b17d5",
   "metadata": {},
   "outputs": [],
   "source": [
    "mg_clustering_series = get_clustering_series(medium_graph_cl)\n",
    "print(mg_clustering_series.describe())"
   ]
  },
  {
   "cell_type": "code",
   "execution_count": null,
   "id": "1d5b2884",
   "metadata": {},
   "outputs": [],
   "source": [
    "plot_clustering_descriptive_stats(medium_graph_cl, \"green\")"
   ]
  },
  {
   "cell_type": "code",
   "execution_count": null,
   "id": "5570d911",
   "metadata": {},
   "outputs": [],
   "source": [
    "plot_clustering_ranking(medium_graph_cl, \"go-\")"
   ]
  },
  {
   "cell_type": "code",
   "execution_count": null,
   "id": "0c61f50e",
   "metadata": {},
   "outputs": [],
   "source": [
    "plot_clustering_ranking(\n",
    "    medium_graph_cl,\n",
    "    \"go-\",\n",
    "    stop_at=mg_clustering_series.quantile(0.992, interpolation=\"nearest\"),\n",
    ")"
   ]
  },
  {
   "cell_type": "markdown",
   "id": "38753483",
   "metadata": {},
   "source": [
    "#### 4.4.4. Large network"
   ]
  },
  {
   "cell_type": "code",
   "execution_count": null,
   "id": "301fff63",
   "metadata": {},
   "outputs": [],
   "source": [
    "draw_clustering_based_network(large_graph, large_graph_cl)"
   ]
  },
  {
   "cell_type": "code",
   "execution_count": null,
   "id": "37dd7c15",
   "metadata": {},
   "outputs": [],
   "source": [
    "lg_clustering_series = get_clustering_series(large_graph_cl)\n",
    "print(lg_cl_series.describe())"
   ]
  },
  {
   "cell_type": "code",
   "execution_count": null,
   "id": "13440774",
   "metadata": {},
   "outputs": [],
   "source": [
    "plot_clustering_descriptive_stats(large_graph_cl, \"magenta\")"
   ]
  },
  {
   "cell_type": "code",
   "execution_count": null,
   "id": "2b6a83a2",
   "metadata": {
    "scrolled": true
   },
   "outputs": [],
   "source": [
    "plot_clustering_ranking(large_graph_cl, \"mo-\")"
   ]
  },
  {
   "cell_type": "code",
   "execution_count": null,
   "id": "71056d29",
   "metadata": {},
   "outputs": [],
   "source": [
    "plot_clustering_ranking(\n",
    "    large_graph_cl,\n",
    "    \"mo-\",\n",
    "    stop_at=lg_clustering_series.quantile(0.9989, interpolation=\"nearest\"),\n",
    ")"
   ]
  }
 ],
 "metadata": {
  "kernelspec": {
   "display_name": "Python 3 (ipykernel)",
   "language": "python",
   "name": "python3"
  },
  "language_info": {
   "codemirror_mode": {
    "name": "ipython",
    "version": 3
   },
   "file_extension": ".py",
   "mimetype": "text/x-python",
   "name": "python",
   "nbconvert_exporter": "python",
   "pygments_lexer": "ipython3",
   "version": "3.8.16"
  }
 },
 "nbformat": 4,
 "nbformat_minor": 5
}
