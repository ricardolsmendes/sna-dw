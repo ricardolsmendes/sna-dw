{
 "cells": [
  {
   "cell_type": "markdown",
   "id": "0269bfa1",
   "metadata": {},
   "source": [
    "# Social Network Analysis applied to Data Warehouses\n",
    "\n",
    "## 1. Data anonymization"
   ]
  },
  {
   "cell_type": "markdown",
   "id": "d8577887",
   "metadata": {},
   "source": [
    "### 1.1. Import dependencies"
   ]
  },
  {
   "cell_type": "code",
   "execution_count": null,
   "id": "0e637bc3",
   "metadata": {},
   "outputs": [],
   "source": [
    "import networkx as nx"
   ]
  },
  {
   "cell_type": "markdown",
   "id": "1c088375",
   "metadata": {},
   "source": [
    "### 2.1. Load the graphs with anonymous table names\n",
    "\n",
    "_This step is intended to run only once, so it is commented out to avoid misuse._\n",
    "\n",
    "`nx.convert_node_labels_to_integers()`, used to anonymize the table names, is not guaranteed to assign the same integer value to a given node label every time it runs; thus, the results from the one-time run are persisted in the next step and should be pushed to the Git repo to generate consistent/reproducible research results in later notebook runs."
   ]
  },
  {
   "cell_type": "code",
   "execution_count": null,
   "id": "b1864cb2",
   "metadata": {},
   "outputs": [],
   "source": [
    "# prepared_data_folder = \"../data/prepared\"\n",
    "\n",
    "# small_graph_1 = nx.convert_node_labels_to_integers(\n",
    "#     nx.read_edgelist(\n",
    "#         f\"{prepared_data_folder}/prepared-dataset-small.csv\",\n",
    "#         delimiter=\",\", create_using=nx.DiGraph()),\n",
    "#     first_label=10001)\n",
    "\n",
    "# small_graph_2 = nx.convert_node_labels_to_integers(\n",
    "#     nx.read_edgelist(\n",
    "#         f\"{prepared_data_folder}/prepared-dataset-medium_1.csv\",\n",
    "#         delimiter=\",\", create_using=nx.DiGraph()),\n",
    "#     first_label=20001)\n",
    "\n",
    "# medium_graph = nx.convert_node_labels_to_integers(\n",
    "#     nx.read_edgelist(\n",
    "#         f\"{prepared_data_folder}/prepared-dataset-medium_2.csv\",\n",
    "#         delimiter=\",\", create_using=nx.DiGraph()),\n",
    "#     first_label=300001)\n",
    "\n",
    "# large_graph = nx.convert_node_labels_to_integers(\n",
    "#     nx.read_edgelist(\n",
    "#         f\"{prepared_data_folder}/prepared-dataset-large.csv\",\n",
    "#         delimiter=\",\", create_using=nx.DiGraph()),\n",
    "#     first_label=4000001)"
   ]
  },
  {
   "cell_type": "markdown",
   "id": "15903170",
   "metadata": {},
   "source": [
    "### 3.1. Store the anonymized graphs as CSV\n",
    "\n",
    "_This step is intended to run only once, so it is commented out to avoid misuse._"
   ]
  },
  {
   "cell_type": "code",
   "execution_count": null,
   "id": "d2b9b901",
   "metadata": {
    "scrolled": false
   },
   "outputs": [],
   "source": [
    "# anon_data_folder = \"../data/anonymized\"\n",
    "\n",
    "# nx.write_edgelist(small_graph_1,\n",
    "#     f\"{anon_data_folder}/anon-dataset-small_1.csv\",\n",
    "#     delimiter=\",\", data=False)\n",
    "\n",
    "# nx.write_edgelist(small_graph_2,\n",
    "#     f\"{anon_data_folder}/anon-dataset-small_2.csv\",\n",
    "#     delimiter=\",\", data=False)\n",
    "\n",
    "# nx.write_edgelist(medium_graph,\n",
    "#     f\"{anon_data_folder}/anon-dataset-medium.csv\",\n",
    "#     delimiter=\",\", data=False)\n",
    "\n",
    "# nx.write_edgelist(large_graph,\n",
    "#     f\"{anon_data_folder}/anon-dataset-large.csv\",\n",
    "#     delimiter=\",\", data=False)"
   ]
  }
 ],
 "metadata": {
  "kernelspec": {
   "display_name": "Python 3 (ipykernel)",
   "language": "python",
   "name": "python3"
  },
  "language_info": {
   "codemirror_mode": {
    "name": "ipython",
    "version": 3
   },
   "file_extension": ".py",
   "mimetype": "text/x-python",
   "name": "python",
   "nbconvert_exporter": "python",
   "pygments_lexer": "ipython3",
   "version": "3.8.16"
  }
 },
 "nbformat": 4,
 "nbformat_minor": 5
}
