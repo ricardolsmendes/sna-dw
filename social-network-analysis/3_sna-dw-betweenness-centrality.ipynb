{
 "cells": [
  {
   "cell_type": "markdown",
   "id": "0269bfa1",
   "metadata": {},
   "source": [
    "# Social Network Analysis applied to Data Warehouses\n",
    "\n",
    "## 3. Network Connectivity Analysis: Betweenness Centrality\n",
    "\n",
    "Some measures depend not only on a node's direct connections but also on its structural position in the network. **Betweenness centrality**, which refers to the number of times a given node is found in the shortest paths among other nodes, is one of them. Nodes with large betweenness are the primary conductors of information, also called network influencers. In other words, if the betweenness is high, the node is potentially a crucial go-between (thus the name) and has a brokerage capability (Zinoviev, 2018). The shortest paths in a graph can eventually materialize as data pipelines in the Data Warehouse, and betweenness centrality brings insights about the assets that have a higher potential to cause such workloads to fail."
   ]
  },
  {
   "cell_type": "markdown",
   "id": "413505b6",
   "metadata": {},
   "source": [
    "### 3.1. Import dependencies"
   ]
  },
  {
   "cell_type": "code",
   "execution_count": null,
   "id": "65bf2d3f",
   "metadata": {},
   "outputs": [],
   "source": [
    "import itertools\n",
    "from typing import Dict, List, Tuple\n",
    "\n",
    "import matplotlib.pyplot as plt\n",
    "import networkx as nx\n",
    "from networkx.classes.graph import Graph\n",
    "import numpy as np\n",
    "import pandas as pd\n",
    "from pandas import Series"
   ]
  },
  {
   "cell_type": "markdown",
   "id": "9d0d7495",
   "metadata": {},
   "source": [
    "### 3.2. Utility functions"
   ]
  },
  {
   "cell_type": "code",
   "execution_count": null,
   "id": "ff50ec1b",
   "metadata": {},
   "outputs": [],
   "source": [
    "def load_graph_from_csv(file: str) -> Graph:\n",
    "    return nx.read_edgelist(file, delimiter=\",\", create_using=nx.DiGraph)"
   ]
  },
  {
   "cell_type": "code",
   "execution_count": null,
   "id": "9b3241d2",
   "metadata": {},
   "outputs": [],
   "source": [
    "def format_graph_info(graph_id: str, graph: Graph) -> str:\n",
    "    return (\n",
    "        f\"{graph_id.upper()} GRAPH INFO:\\n\"\n",
    "        f\"  Number of nodes: {nx.number_of_nodes(graph)}\\n\"\n",
    "        f\"  Number of edges: {nx.number_of_edges(graph)}\\n\"\n",
    "        f\"  Density: {nx.density(graph)}\\n\"\n",
    "        f\"  Average clustering coefficient: {nx.average_clustering(graph)}\\n\"\n",
    "        f\"  Transitivity: {nx.transitivity(graph)}\"\n",
    "    )"
   ]
  },
  {
   "cell_type": "code",
   "execution_count": null,
   "id": "30788989",
   "metadata": {},
   "outputs": [],
   "source": [
    "def get_betweenness_centrality(graph: Graph) -> Dict[str, float]:\n",
    "    return nx.betweenness_centrality(graph, normalized=False)"
   ]
  },
  {
   "cell_type": "code",
   "execution_count": null,
   "id": "7b100b47",
   "metadata": {},
   "outputs": [],
   "source": [
    "def get_betweenness_centrality_list(bet_cent: Dict[str, float]) -> List[float]:\n",
    "    return [betweenness for _, betweenness in bet_cent.items()]"
   ]
  },
  {
   "cell_type": "code",
   "execution_count": null,
   "id": "432e808e",
   "metadata": {},
   "outputs": [],
   "source": [
    "def get_betweenness_centrality_series(bet_cent: Dict[str, float]) -> Series:\n",
    "    return pd.Series(get_betweenness_centrality_list(bet_cent))"
   ]
  },
  {
   "cell_type": "code",
   "execution_count": null,
   "id": "19e30ddb",
   "metadata": {},
   "outputs": [],
   "source": [
    "def draw_betweenness_centrality_based_network(\n",
    "    graph: Graph, bet_cent: Dict[str, float]\n",
    ") -> None:\n",
    "    sorted_bet_cent = sorted(get_betweenness_centrality_list(bet_cent))\n",
    "\n",
    "    lowest_non_zero_bet_cent = next(\n",
    "        betweenness for betweenness in sorted_bet_cent if betweenness > 0\n",
    "    )\n",
    "    highest_bet_cent = sorted_bet_cent[-1]\n",
    "    scaling_factor = 3500 / highest_bet_cent\n",
    "\n",
    "    normalized_node_params = [\n",
    "        (betweenness or (lowest_non_zero_bet_cent / 10)) * scaling_factor\n",
    "        for betweenness in sorted_bet_cent\n",
    "    ]\n",
    "\n",
    "    pos = nx.spring_layout(graph)\n",
    "    plt.figure(figsize=(12, 8))\n",
    "    nx.draw_networkx(\n",
    "        graph,\n",
    "        pos=pos,\n",
    "        with_labels=False,\n",
    "        edge_color=\"dimgray\",\n",
    "        node_color=normalized_node_params,\n",
    "        node_size=normalized_node_params,\n",
    "    )\n",
    "    plt.axis(\"off\")"
   ]
  },
  {
   "cell_type": "code",
   "execution_count": null,
   "id": "8f483a8f",
   "metadata": {},
   "outputs": [],
   "source": [
    "def plot_betweenness_centrality_descriptive_stats(\n",
    "    bet_cent: Dict[str, float], color: str\n",
    ") -> None:\n",
    "    bet_cent_list = get_betweenness_centrality_list(bet_cent)\n",
    "\n",
    "    plt.figure(figsize=(12, 3))\n",
    "    plt.boxplot(bet_cent_list, vert=False, flierprops=dict(markerfacecolor=color))\n",
    "    plt.xlabel(\"Betweenness Centrality\")"
   ]
  },
  {
   "cell_type": "code",
   "execution_count": null,
   "id": "ac23cce0",
   "metadata": {},
   "outputs": [],
   "source": [
    "def plot_betweenness_centrality_ranking(\n",
    "    bet_cent: Dict[str, float], fmt: str, stop_at: float = 0\n",
    ") -> None:\n",
    "    sorted_bet_cent = sorted(get_betweenness_centrality_list(bet_cent), reverse=True)\n",
    "\n",
    "    if stop_at:\n",
    "        stop_at_index = sorted_bet_cent.index(stop_at)\n",
    "        while sorted_bet_cent[stop_at_index] == sorted_bet_cent[stop_at_index + 1]:\n",
    "            stop_at_index += 1\n",
    "\n",
    "    adjusted_list = [None]\n",
    "    adjusted_list.extend(\n",
    "        sorted_bet_cent[: stop_at_index + 1] if stop_at else sorted_bet_cent\n",
    "    )\n",
    "\n",
    "    plt.figure(figsize=(12, 3))\n",
    "    plt.plot(adjusted_list, fmt)\n",
    "    plt.xlabel(\"Rank\")\n",
    "    plt.ylabel(\"Betweenness Centrality\")"
   ]
  },
  {
   "cell_type": "code",
   "execution_count": null,
   "id": "6609b473",
   "metadata": {},
   "outputs": [],
   "source": [
    "def group_nodes_by_betweenness_centrality(\n",
    "    bet_cent: Dict[str, float], highest_first: bool = True\n",
    ") -> Dict[float, List[str]]:\n",
    "    bet_cent_list = get_betweenness_centrality_list(bet_cent)\n",
    "    unique_bet_cent = sorted(np.unique(bet_cent_list), reverse=highest_first)\n",
    "    sorted_bet_cent_dict = {}\n",
    "    for value in unique_bet_cent:\n",
    "        sorted_bet_cent_dict[value] = sorted(\n",
    "            [node for node, bc in bet_cent.items() if bc == value]\n",
    "        )\n",
    "    return sorted_bet_cent_dict"
   ]
  },
  {
   "cell_type": "code",
   "execution_count": null,
   "id": "d17e4fee",
   "metadata": {},
   "outputs": [],
   "source": [
    "def get_betweenness_centrality_critical_nodes_for_count(\n",
    "    bet_cent: Dict[str, float], target_node_count\n",
    ") -> Tuple[Dict[int, List[str]], float]:\n",
    "    node_count = 0\n",
    "    bc_groups = group_nodes_by_betweenness_centrality(bet_cent)\n",
    "\n",
    "    group_count = 0\n",
    "    while node_count < target_node_count:\n",
    "        group_count += 1\n",
    "        highest_bc = dict(itertools.islice(bc_groups.items(), group_count))\n",
    "        node_count = sum([len(nodes) for _, nodes in highest_bc.items()])\n",
    "\n",
    "    print(f\"{group_count}-critical-groups node count: {node_count}\\n\")\n",
    "\n",
    "    return highest_bc, node_count"
   ]
  },
  {
   "cell_type": "markdown",
   "id": "eea34228",
   "metadata": {},
   "source": [
    "### 3.3. Load the anonymized graphs from CSV and cache their Betweenness Centrality data"
   ]
  },
  {
   "cell_type": "code",
   "execution_count": null,
   "id": "fa79102b",
   "metadata": {},
   "outputs": [],
   "source": [
    "anon_data_folder = \"../data/anonymized\"\n",
    "\n",
    "small_graph_1 = load_graph_from_csv(f\"{anon_data_folder}/anon-dataset-small_1.csv\")\n",
    "print(f'{format_graph_info(\"small(1)\", small_graph_1)}\\n')\n",
    "\n",
    "small_graph_2 = load_graph_from_csv(f\"{anon_data_folder}/anon-dataset-small_2.csv\")\n",
    "print(f'{format_graph_info(\"small(2)\", small_graph_2)}\\n')\n",
    "\n",
    "medium_graph = load_graph_from_csv(f\"{anon_data_folder}/anon-dataset-medium.csv\")\n",
    "print(f'{format_graph_info(\"medium\", medium_graph)}\\n')\n",
    "\n",
    "large_graph = load_graph_from_csv(f\"{anon_data_folder}/anon-dataset-large.csv\")\n",
    "print(f'{format_graph_info(\"large\", large_graph)}')"
   ]
  },
  {
   "cell_type": "code",
   "execution_count": null,
   "id": "1eb0c8a0",
   "metadata": {},
   "outputs": [],
   "source": [
    "small_graph_1_bc = get_betweenness_centrality(small_graph_1)\n",
    "small_graph_2_bc = get_betweenness_centrality(small_graph_2)\n",
    "medium_graph_bc = get_betweenness_centrality(medium_graph)\n",
    "large_graph_bc = get_betweenness_centrality(large_graph)"
   ]
  },
  {
   "cell_type": "markdown",
   "id": "55056f24",
   "metadata": {},
   "source": [
    "### 3.4. Draw the networks, plot Betweenness Centrality data, etc"
   ]
  },
  {
   "cell_type": "markdown",
   "id": "84c03d72",
   "metadata": {},
   "source": [
    "#### 3.4.1. Small network 1"
   ]
  },
  {
   "cell_type": "code",
   "execution_count": null,
   "id": "0517472d",
   "metadata": {
    "scrolled": false
   },
   "outputs": [],
   "source": [
    "draw_betweenness_centrality_based_network(small_graph_1, small_graph_1_bc)"
   ]
  },
  {
   "cell_type": "code",
   "execution_count": null,
   "id": "de935dd5",
   "metadata": {},
   "outputs": [],
   "source": [
    "sg_1_bet_cent_series = get_betweenness_centrality_series(small_graph_1_bc)\n",
    "print(sg_1_bet_cent_series.describe())"
   ]
  },
  {
   "cell_type": "code",
   "execution_count": null,
   "id": "5a0974c9",
   "metadata": {
    "scrolled": true
   },
   "outputs": [],
   "source": [
    "plot_betweenness_centrality_descriptive_stats(small_graph_1_bc, \"red\")"
   ]
  },
  {
   "cell_type": "markdown",
   "id": "3855dc09",
   "metadata": {},
   "source": [
    "Like what was observed in the out-degree analysis, there are few nodes with high betweenness centrality in each of the four datasets, as summarized by the above descriptive statistics and box plot chart. Again, the research shows no clear threshold that can be used to determine the key assets from the betweenness centrality perspective.\n",
    "\n",
    "However, ranking the assets according to their betweenness centralities makes it feasible to point out the outliers, which Data Governance folks should pay special attention to."
   ]
  },
  {
   "cell_type": "code",
   "execution_count": null,
   "id": "ac43279e",
   "metadata": {
    "scrolled": true
   },
   "outputs": [],
   "source": [
    "plot_betweenness_centrality_ranking(small_graph_1_bc, \"ro-\")"
   ]
  },
  {
   "cell_type": "code",
   "execution_count": null,
   "id": "561eb304",
   "metadata": {},
   "outputs": [],
   "source": [
    "sg_1_critical_groups, _ = get_betweenness_centrality_critical_nodes_for_count(\n",
    "    small_graph_1_bc, 10\n",
    ")\n",
    "print(f\"\\n{sg_1_critical_groups}\")"
   ]
  },
  {
   "cell_type": "code",
   "execution_count": null,
   "id": "070dde12",
   "metadata": {},
   "outputs": [],
   "source": [
    "plot_betweenness_centrality_ranking(\n",
    "    small_graph_1_bc,\n",
    "    \"ro-\",\n",
    "    stop_at=list(sg_1_critical_groups.keys())[-1],\n",
    ")"
   ]
  },
  {
   "cell_type": "markdown",
   "id": "b3cc7ade",
   "metadata": {},
   "source": [
    "#### 3.4.2. Small network 2"
   ]
  },
  {
   "cell_type": "code",
   "execution_count": null,
   "id": "ac2567db",
   "metadata": {
    "scrolled": false
   },
   "outputs": [],
   "source": [
    "draw_betweenness_centrality_based_network(small_graph_2, small_graph_2_bc)"
   ]
  },
  {
   "cell_type": "code",
   "execution_count": null,
   "id": "465f038d",
   "metadata": {},
   "outputs": [],
   "source": [
    "sg_2_bet_cent_series = get_betweenness_centrality_series(small_graph_2_bc)\n",
    "print(sg_2_bet_cent_series.describe())"
   ]
  },
  {
   "cell_type": "code",
   "execution_count": null,
   "id": "2440ba30",
   "metadata": {},
   "outputs": [],
   "source": [
    "plot_betweenness_centrality_descriptive_stats(small_graph_2_bc, \"blue\")"
   ]
  },
  {
   "cell_type": "code",
   "execution_count": null,
   "id": "3f0e9028",
   "metadata": {},
   "outputs": [],
   "source": [
    "plot_betweenness_centrality_ranking(small_graph_2_bc, \"bo-\")"
   ]
  },
  {
   "cell_type": "code",
   "execution_count": null,
   "id": "f7ab55e0",
   "metadata": {},
   "outputs": [],
   "source": [
    "sg_2_critical_groups, _ = get_betweenness_centrality_critical_nodes_for_count(\n",
    "    small_graph_2_bc, 10\n",
    ")\n",
    "print(f\"\\n{sg_2_critical_groups}\")"
   ]
  },
  {
   "cell_type": "code",
   "execution_count": null,
   "id": "bcac0596",
   "metadata": {},
   "outputs": [],
   "source": [
    "plot_betweenness_centrality_ranking(\n",
    "    small_graph_2_bc,\n",
    "    \"bo-\",\n",
    "    stop_at=list(sg_2_critical_groups.keys())[-1],\n",
    ")"
   ]
  },
  {
   "cell_type": "markdown",
   "id": "43034e6a",
   "metadata": {},
   "source": [
    "#### 3.4.3. Medium network"
   ]
  },
  {
   "cell_type": "code",
   "execution_count": null,
   "id": "77a986e6",
   "metadata": {},
   "outputs": [],
   "source": [
    "draw_betweenness_centrality_based_network(medium_graph, medium_graph_bc)"
   ]
  },
  {
   "cell_type": "code",
   "execution_count": null,
   "id": "879b17d5",
   "metadata": {},
   "outputs": [],
   "source": [
    "mg_bet_cent_series = get_betweenness_centrality_series(medium_graph_bc)\n",
    "print(mg_bet_cent_series.describe())"
   ]
  },
  {
   "cell_type": "code",
   "execution_count": null,
   "id": "1d5b2884",
   "metadata": {},
   "outputs": [],
   "source": [
    "plot_betweenness_centrality_descriptive_stats(medium_graph_bc, \"green\")"
   ]
  },
  {
   "cell_type": "code",
   "execution_count": null,
   "id": "5570d911",
   "metadata": {},
   "outputs": [],
   "source": [
    "plot_betweenness_centrality_ranking(medium_graph_bc, \"go-\")"
   ]
  },
  {
   "cell_type": "code",
   "execution_count": null,
   "id": "ab0f07a1",
   "metadata": {},
   "outputs": [],
   "source": [
    "mg_critical_groups, _ = get_betweenness_centrality_critical_nodes_for_count(\n",
    "    medium_graph_bc, 10\n",
    ")\n",
    "print(f\"\\n{mg_critical_groups}\")"
   ]
  },
  {
   "cell_type": "code",
   "execution_count": null,
   "id": "0c61f50e",
   "metadata": {},
   "outputs": [],
   "source": [
    "plot_betweenness_centrality_ranking(\n",
    "    medium_graph_bc,\n",
    "    \"go-\",\n",
    "    stop_at=list(mg_critical_groups.keys())[-1],\n",
    ")"
   ]
  },
  {
   "cell_type": "markdown",
   "id": "38753483",
   "metadata": {},
   "source": [
    "#### 3.4.4. Large network"
   ]
  },
  {
   "cell_type": "code",
   "execution_count": null,
   "id": "301fff63",
   "metadata": {},
   "outputs": [],
   "source": [
    "draw_betweenness_centrality_based_network(large_graph, large_graph_bc)"
   ]
  },
  {
   "cell_type": "code",
   "execution_count": null,
   "id": "37dd7c15",
   "metadata": {},
   "outputs": [],
   "source": [
    "lg_bet_cent_series = get_betweenness_centrality_series(large_graph_bc)\n",
    "print(lg_bet_cent_series.describe())"
   ]
  },
  {
   "cell_type": "code",
   "execution_count": null,
   "id": "13440774",
   "metadata": {},
   "outputs": [],
   "source": [
    "plot_betweenness_centrality_descriptive_stats(large_graph_bc, \"magenta\")"
   ]
  },
  {
   "cell_type": "code",
   "execution_count": null,
   "id": "2b6a83a2",
   "metadata": {},
   "outputs": [],
   "source": [
    "plot_betweenness_centrality_ranking(large_graph_bc, \"mo-\")"
   ]
  },
  {
   "cell_type": "code",
   "execution_count": null,
   "id": "e7a5768a",
   "metadata": {},
   "outputs": [],
   "source": [
    "lg_critical_groups, _ = get_betweenness_centrality_critical_nodes_for_count(\n",
    "    large_graph_bc, 10\n",
    ")\n",
    "print(f\"\\n{lg_critical_groups}\")"
   ]
  },
  {
   "cell_type": "code",
   "execution_count": null,
   "id": "71056d29",
   "metadata": {},
   "outputs": [],
   "source": [
    "plot_betweenness_centrality_ranking(\n",
    "    large_graph_bc,\n",
    "    \"mo-\",\n",
    "    stop_at=list(lg_critical_groups.keys())[-1],\n",
    ")"
   ]
  }
 ],
 "metadata": {
  "kernelspec": {
   "display_name": "Python 3 (ipykernel)",
   "language": "python",
   "name": "python3"
  },
  "language_info": {
   "codemirror_mode": {
    "name": "ipython",
    "version": 3
   },
   "file_extension": ".py",
   "mimetype": "text/x-python",
   "name": "python",
   "nbconvert_exporter": "python",
   "pygments_lexer": "ipython3",
   "version": "3.8.17"
  }
 },
 "nbformat": 4,
 "nbformat_minor": 5
}
