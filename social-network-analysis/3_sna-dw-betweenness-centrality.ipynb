{
 "cells": [
  {
   "cell_type": "markdown",
   "id": "0269bfa1",
   "metadata": {},
   "source": [
    "# Social Network Analysis for Data Warehouses\n",
    "\n",
    "## Network Connectivity Analysis: Betweenness Centrality"
   ]
  },
  {
   "cell_type": "code",
   "execution_count": null,
   "id": "5a0974c9",
   "metadata": {},
   "outputs": [],
   "source": [
    "# Network Influencers: betweenness centrality\n",
    "\n",
    "bet_cent = nx.betweenness_centrality(graph, normalized=True, endpoints=True)\n",
    "\n",
    "# Print the labels of the nodes with the highest betweenness centrality.\n",
    "sorted(bet_cent, key=bet_cent.get, reverse=True)[:5]"
   ]
  },
  {
   "cell_type": "code",
   "execution_count": null,
   "id": "19e30ddb",
   "metadata": {},
   "outputs": [],
   "source": [
    "def draw_betweenness_centrality_based_network(graph: Graph) -> None:\n",
    "    node_color = [20000 * degree for _, degree in graph.out_degree]\n",
    "\n",
    "    bet_cent = nx.betweenness_centrality(graph, normalized=True, endpoints=True)\n",
    "    node_size = [node_bc * 1000000 for node_bc in bet_cent.values()]\n",
    "    \n",
    "    pos = nx.spring_layout(graph)\n",
    "    plt.figure(figsize=(12, 8))\n",
    "    nx.draw_networkx(graph, pos=pos, with_labels=False,\n",
    "                     edge_color=\"dimgray\",\n",
    "                     node_color=node_color,\n",
    "                     node_size=node_size)\n",
    "    plt.axis('off')"
   ]
  }
 ],
 "metadata": {
  "kernelspec": {
   "display_name": "Python 3 (ipykernel)",
   "language": "python",
   "name": "python3"
  },
  "language_info": {
   "codemirror_mode": {
    "name": "ipython",
    "version": 3
   },
   "file_extension": ".py",
   "mimetype": "text/x-python",
   "name": "python",
   "nbconvert_exporter": "python",
   "pygments_lexer": "ipython3",
   "version": "3.8.16"
  }
 },
 "nbformat": 4,
 "nbformat_minor": 5
}
