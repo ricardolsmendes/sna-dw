{
 "cells": [
  {
   "cell_type": "markdown",
   "id": "0269bfa1",
   "metadata": {},
   "source": [
    "# Social Network Analysis applied to Data Warehouses\n",
    "\n",
    "## 2. Network Connectivity Analysis: Out-Degree\n",
    "\n",
    "The **degree** is simply the number of other nodes to which a node is adjacent (Scott, 2017). In directed networks, such as those used in this research, _out-degree_ refers to the number of connections that proceed from a particular node, and _in-degree_ is the number of connections it receives. A node’s degree is the sum of its in-degree and out-degree. The present analysis considered only the out-degree because it represents the downstream dependencies for a given data asset. From this perspective, assets with higher out-degrees are considered more important because their absence might cause data pipelines to break and downstream assets to become obsolete. "
   ]
  },
  {
   "cell_type": "markdown",
   "id": "d8577887",
   "metadata": {},
   "source": [
    "### 2.1. Import dependencies"
   ]
  },
  {
   "cell_type": "code",
   "execution_count": null,
   "id": "0e637bc3",
   "metadata": {},
   "outputs": [],
   "source": [
    "import itertools\n",
    "import math\n",
    "from typing import Dict, List, Tuple\n",
    "\n",
    "import matplotlib.pyplot as plt\n",
    "import networkx as nx\n",
    "from networkx.classes.graph import Graph\n",
    "import numpy as np\n",
    "import pandas as pd\n",
    "from pandas import Series"
   ]
  },
  {
   "cell_type": "markdown",
   "id": "69f1c45a",
   "metadata": {},
   "source": [
    "### 2.2. Utility functions"
   ]
  },
  {
   "cell_type": "code",
   "execution_count": null,
   "id": "9bdc46a4",
   "metadata": {},
   "outputs": [],
   "source": [
    "def load_graph_from_csv(file: str) -> Graph:\n",
    "    return nx.read_edgelist(file, delimiter=\",\", create_using=nx.DiGraph)"
   ]
  },
  {
   "cell_type": "code",
   "execution_count": null,
   "id": "5ca39cd4",
   "metadata": {},
   "outputs": [],
   "source": [
    "def format_graph_info(graph_id: str, graph: Graph) -> str:\n",
    "    return (\n",
    "        f\"{graph_id.upper()} GRAPH INFO:\\n\"\n",
    "        f\"  Number of nodes: {nx.number_of_nodes(graph)}\\n\"\n",
    "        f\"  Number of edges: {nx.number_of_edges(graph)}\\n\"\n",
    "        f\"  Density: {nx.density(graph)}\\n\"\n",
    "        f\"  Average clustering coefficient: {nx.average_clustering(graph)}\\n\"\n",
    "        f\"  Transitivity: {nx.transitivity(graph)}\"\n",
    "    )"
   ]
  },
  {
   "cell_type": "code",
   "execution_count": null,
   "id": "01aa552a",
   "metadata": {},
   "outputs": [],
   "source": [
    "def get_out_degree_list(graph: Graph) -> List[int]:\n",
    "    return [degree for _, degree in graph.out_degree]"
   ]
  },
  {
   "cell_type": "code",
   "execution_count": null,
   "id": "37a3014e",
   "metadata": {},
   "outputs": [],
   "source": [
    "def get_out_degree_series(graph: Graph) -> Series:\n",
    "    return pd.Series(get_out_degree_list(graph))"
   ]
  },
  {
   "cell_type": "code",
   "execution_count": null,
   "id": "c67ae296",
   "metadata": {},
   "outputs": [],
   "source": [
    "def draw_out_degree_based_network(graph: Graph) -> None:\n",
    "    sorted_degrees = sorted(get_out_degree_list(graph))\n",
    "\n",
    "    highest_degree = sorted_degrees[-1]\n",
    "    scaling_factor = 3500 / highest_degree\n",
    "\n",
    "    normalized_node_params = [\n",
    "        (degree or 0.05) * scaling_factor for degree in sorted_degrees\n",
    "    ]\n",
    "\n",
    "    plt.figure(figsize=(12, 8))\n",
    "    nx.draw_networkx(\n",
    "        graph,\n",
    "        pos=nx.spring_layout(graph),\n",
    "        with_labels=False,\n",
    "        edge_color=\"dimgray\",\n",
    "        node_color=normalized_node_params,\n",
    "        node_size=normalized_node_params,\n",
    "    )\n",
    "    plt.axis(\"off\")"
   ]
  },
  {
   "cell_type": "code",
   "execution_count": null,
   "id": "b7247401",
   "metadata": {},
   "outputs": [],
   "source": [
    "def plot_out_degree_descriptive_stats(graph: Graph, color: str) -> None:\n",
    "    degrees = get_out_degree_list(graph)\n",
    "\n",
    "    plt.figure(figsize=(12, 3))\n",
    "    plt.boxplot(degrees, vert=False, flierprops=dict(markerfacecolor=color))\n",
    "    plt.xlabel(\"Out-degree\")"
   ]
  },
  {
   "cell_type": "code",
   "execution_count": null,
   "id": "5eec9106",
   "metadata": {},
   "outputs": [],
   "source": [
    "def plot_out_degree_histogram(\n",
    "    graph: Graph, color: str, start_from_degree: int = 0\n",
    ") -> None:\n",
    "    degrees = get_out_degree_list(graph)\n",
    "    unique_degrees, counts = np.unique(degrees, return_counts=True)\n",
    "\n",
    "    start_from_index = 0\n",
    "    if start_from_degree:\n",
    "        start_from_index = np.where(unique_degrees == start_from_degree)[0][0]\n",
    "\n",
    "    plt.figure(figsize=(12, 3))\n",
    "    plt.bar(unique_degrees[start_from_index:], counts[start_from_index:], color=color)\n",
    "    plt.xlabel(\"Out-degree\")\n",
    "    plt.ylabel(\"# of Nodes\")"
   ]
  },
  {
   "cell_type": "code",
   "execution_count": null,
   "id": "701d8efd",
   "metadata": {},
   "outputs": [],
   "source": [
    "def plot_out_degree_ranking(graph: Graph, fmt: str, stop_at_degree: int = 0) -> None:\n",
    "    degrees = sorted(get_out_degree_list(graph), reverse=True)\n",
    "\n",
    "    if stop_at_degree:\n",
    "        stop_at_index = degrees.index(stop_at_degree)\n",
    "        while degrees[stop_at_index] == degrees[stop_at_index + 1]:\n",
    "            stop_at_index += 1\n",
    "\n",
    "    adjusted_list = [None]\n",
    "    adjusted_list.extend(degrees[: stop_at_index + 1] if stop_at_degree else degrees)\n",
    "\n",
    "    plt.figure(figsize=(12, 3))\n",
    "    plt.plot(adjusted_list, fmt)\n",
    "    plt.xlabel(\"Rank\")\n",
    "    plt.ylabel(\"Out-degree\")"
   ]
  },
  {
   "cell_type": "code",
   "execution_count": null,
   "id": "34eb3180",
   "metadata": {},
   "outputs": [],
   "source": [
    "def group_nodes_by_out_degree(\n",
    "    graph: Graph, highest_first: bool = True\n",
    ") -> Dict[int, List[str]]:\n",
    "    degrees = get_out_degree_list(graph)\n",
    "    unique_degrees = sorted(np.unique(degrees), reverse=highest_first)\n",
    "    degrees_dict = {}\n",
    "    for unique_degree in unique_degrees:\n",
    "        degrees_dict[int(unique_degree)] = sorted(\n",
    "            [node for node, degree in graph.out_degree if degree == unique_degree]\n",
    "        )\n",
    "    return degrees_dict"
   ]
  },
  {
   "cell_type": "code",
   "execution_count": null,
   "id": "cea6c137",
   "metadata": {},
   "outputs": [],
   "source": [
    "def get_out_degree_critical_nodes_for_count(\n",
    "    graph: Graph, target_node_count\n",
    ") -> Tuple[Dict[int, List[str]], float]:\n",
    "    node_count = 0\n",
    "    degree_groups = group_nodes_by_out_degree(graph)\n",
    "    degree_sum = sum(get_out_degree_list(graph))\n",
    "\n",
    "    group_count = 0\n",
    "    while node_count < target_node_count:\n",
    "        group_count += 1\n",
    "        highest_degrees = dict(itertools.islice(degree_groups.items(), group_count))\n",
    "        node_count = sum([len(nodes) for _, nodes in highest_degrees.items()])\n",
    "\n",
    "    highest_degree_sum = sum(\n",
    "        [degree * len(nodes) for degree, nodes in highest_degrees.items()]\n",
    "    )\n",
    "    groups_degree_ratio = highest_degree_sum / degree_sum * 100\n",
    "    print(\n",
    "        f\"{group_count}-critical-groups node count: {node_count}\\n\"\n",
    "        f\"{group_count}-critical-groups/total out-degree ratio:\"\n",
    "        f\" {groups_degree_ratio:.0f}% ({highest_degree_sum}/{degree_sum})\"\n",
    "    )\n",
    "\n",
    "    return highest_degrees, node_count"
   ]
  },
  {
   "cell_type": "code",
   "execution_count": null,
   "id": "bc3af1da",
   "metadata": {},
   "outputs": [],
   "source": [
    "def get_out_degree_critical_nodes_for_ratio(\n",
    "    graph: Graph, target_ratio\n",
    ") -> Tuple[Dict[int, List[str]], float]:\n",
    "    groups_degree_ratio = 0\n",
    "    degree_groups = group_nodes_by_out_degree(graph)\n",
    "    degree_sum = sum(get_out_degree_list(graph))\n",
    "\n",
    "    group_count = 0\n",
    "    while groups_degree_ratio < target_ratio:\n",
    "        group_count += 1\n",
    "        highest_degrees = dict(itertools.islice(degree_groups.items(), group_count))\n",
    "        highest_degree_sum = sum(\n",
    "            [degree * len(nodes) for degree, nodes in highest_degrees.items()]\n",
    "        )\n",
    "        groups_degree_ratio = highest_degree_sum / degree_sum * 100\n",
    "\n",
    "    node_count = sum([len(nodes) for _, nodes in highest_degrees.items()])\n",
    "\n",
    "    print(\n",
    "        f\"{group_count}-critical-groups node count: {node_count}\\n\"\n",
    "        f\"{group_count}-critical-groups/total out-degree ratio:\"\n",
    "        f\" {groups_degree_ratio:.0f}% ({highest_degree_sum}/{degree_sum})\"\n",
    "    )\n",
    "\n",
    "    return highest_degrees, groups_degree_ratio"
   ]
  },
  {
   "cell_type": "markdown",
   "id": "20a2bb99",
   "metadata": {},
   "source": [
    "### 2.3. Load the anonymized graphs from CSV"
   ]
  },
  {
   "cell_type": "code",
   "execution_count": null,
   "id": "f774689e",
   "metadata": {},
   "outputs": [],
   "source": [
    "anon_data_folder = \"../data/anonymized\"\n",
    "\n",
    "small_graph_1 = load_graph_from_csv(f\"{anon_data_folder}/anon-dataset-small_1.csv\")\n",
    "print(f'{format_graph_info(\"small(1)\", small_graph_1)}\\n')\n",
    "\n",
    "small_graph_2 = load_graph_from_csv(f\"{anon_data_folder}/anon-dataset-small_2.csv\")\n",
    "print(f'{format_graph_info(\"small(2)\", small_graph_2)}\\n')\n",
    "\n",
    "medium_graph = load_graph_from_csv(f\"{anon_data_folder}/anon-dataset-medium.csv\")\n",
    "print(f'{format_graph_info(\"medium\", medium_graph)}\\n')\n",
    "\n",
    "large_graph = load_graph_from_csv(f\"{anon_data_folder}/anon-dataset-large.csv\")\n",
    "print(f'{format_graph_info(\"large\", large_graph)}')"
   ]
  },
  {
   "cell_type": "markdown",
   "id": "40ecfddf",
   "metadata": {},
   "source": [
    "### 2.4. Draw the networks, degree histograms, and rankings"
   ]
  },
  {
   "cell_type": "markdown",
   "id": "01d89c6d",
   "metadata": {},
   "source": [
    "#### 2.4.1. Small network 1"
   ]
  },
  {
   "cell_type": "code",
   "execution_count": null,
   "id": "384aaf90",
   "metadata": {},
   "outputs": [],
   "source": [
    "draw_out_degree_based_network(small_graph_1)"
   ]
  },
  {
   "cell_type": "code",
   "execution_count": null,
   "id": "8d8c7e88",
   "metadata": {},
   "outputs": [],
   "source": [
    "sg_1_out_degree_series = get_out_degree_series(small_graph_1)\n",
    "print(sg_1_out_degree_series.describe())"
   ]
  },
  {
   "cell_type": "code",
   "execution_count": null,
   "id": "52b74d9d",
   "metadata": {
    "scrolled": true
   },
   "outputs": [],
   "source": [
    "plot_out_degree_descriptive_stats(small_graph_1, \"red\")"
   ]
  },
  {
   "cell_type": "markdown",
   "id": "2e2c38f8",
   "metadata": {},
   "source": [
    "A common fact among the four datasets is that there are few nodes with high out-degrees, as summarized by the above descriptive statistics and box plot chart. It means there is no clear threshold that can be used to determine what are the most important assets from the out-degree perspective.\n",
    "\n",
    "Still, out-degree is a discrete metric, so the nodes can be grouped by their out-degrees and then ranked accordingly. The assets belonging to groups with higher out-degrees are the most relevant. The next chart brings a histogram showing the groups corresponding to the lower out-degrees, with higher node counts, at left, and the groups with the most important assets from the center to the right."
   ]
  },
  {
   "cell_type": "code",
   "execution_count": null,
   "id": "fcb65889",
   "metadata": {},
   "outputs": [],
   "source": [
    "plot_out_degree_histogram(small_graph_1, \"red\")"
   ]
  },
  {
   "cell_type": "code",
   "execution_count": null,
   "id": "5af0da41",
   "metadata": {
    "scrolled": true
   },
   "outputs": [],
   "source": [
    "plot_out_degree_ranking(small_graph_1, \"ro-\")"
   ]
  },
  {
   "cell_type": "markdown",
   "id": "a695730c",
   "metadata": {},
   "source": [
    "The groups corresponding to ~20% of the total out-degrees were empirically selected to determine the most relevant assets. The results are presented in the next cells."
   ]
  },
  {
   "cell_type": "code",
   "execution_count": null,
   "id": "d8dae290",
   "metadata": {},
   "outputs": [],
   "source": [
    "sg_1_critical_groups, _ = get_out_degree_critical_nodes_for_ratio(small_graph_1, 20)\n",
    "print(f\"\\n{sg_1_critical_groups}\")\n",
    "\n",
    "sg_1_less_critical_out_degree = list(sg_1_critical_groups)[-1]"
   ]
  },
  {
   "cell_type": "code",
   "execution_count": null,
   "id": "b56c37ed",
   "metadata": {},
   "outputs": [],
   "source": [
    "plot_out_degree_histogram(\n",
    "    small_graph_1, \"red\", start_from_degree=sg_1_less_critical_out_degree\n",
    ")"
   ]
  },
  {
   "cell_type": "code",
   "execution_count": null,
   "id": "44fe34c2",
   "metadata": {
    "scrolled": false
   },
   "outputs": [],
   "source": [
    "plot_out_degree_ranking(\n",
    "    small_graph_1, \"ro-\", stop_at_degree=sg_1_less_critical_out_degree\n",
    ")"
   ]
  },
  {
   "cell_type": "code",
   "execution_count": null,
   "id": "24c13aea",
   "metadata": {},
   "outputs": [],
   "source": [
    "# Only informative.\n",
    "\n",
    "sg_1_critical_groups, _ = get_out_degree_critical_nodes_for_count(small_graph_1, 10)\n",
    "print(f\"\\n{sg_1_critical_groups}\")"
   ]
  },
  {
   "cell_type": "markdown",
   "id": "299451be",
   "metadata": {},
   "source": [
    "#### 2.4.2. Small network 2"
   ]
  },
  {
   "cell_type": "code",
   "execution_count": null,
   "id": "9af8cb61",
   "metadata": {},
   "outputs": [],
   "source": [
    "draw_out_degree_based_network(small_graph_2)"
   ]
  },
  {
   "cell_type": "code",
   "execution_count": null,
   "id": "1f2b2baf",
   "metadata": {},
   "outputs": [],
   "source": [
    "sg_2_out_degree_series = get_out_degree_series(small_graph_2)\n",
    "print(sg_2_out_degree_series.describe())"
   ]
  },
  {
   "cell_type": "code",
   "execution_count": null,
   "id": "b375a6b6",
   "metadata": {},
   "outputs": [],
   "source": [
    "plot_out_degree_descriptive_stats(small_graph_2, \"blue\")"
   ]
  },
  {
   "cell_type": "code",
   "execution_count": null,
   "id": "8d8ef749",
   "metadata": {},
   "outputs": [],
   "source": [
    "plot_out_degree_histogram(small_graph_2, \"blue\")"
   ]
  },
  {
   "cell_type": "code",
   "execution_count": null,
   "id": "654865f5",
   "metadata": {
    "scrolled": false
   },
   "outputs": [],
   "source": [
    "plot_out_degree_ranking(small_graph_2, \"bo-\")"
   ]
  },
  {
   "cell_type": "code",
   "execution_count": null,
   "id": "5a8499b9",
   "metadata": {},
   "outputs": [],
   "source": [
    "sg_2_critical_groups, _ = get_out_degree_critical_nodes_for_ratio(small_graph_2, 20)\n",
    "print(f\"\\n{sg_2_critical_groups}\")\n",
    "\n",
    "sg_2_less_critical_out_degree = list(sg_2_critical_groups)[-1]"
   ]
  },
  {
   "cell_type": "code",
   "execution_count": null,
   "id": "3240f8e9",
   "metadata": {},
   "outputs": [],
   "source": [
    "plot_out_degree_histogram(\n",
    "    small_graph_2, \"blue\", start_from_degree=sg_2_less_critical_out_degree\n",
    ")"
   ]
  },
  {
   "cell_type": "code",
   "execution_count": null,
   "id": "f68102c9",
   "metadata": {
    "scrolled": true
   },
   "outputs": [],
   "source": [
    "plot_out_degree_ranking(\n",
    "    small_graph_2, \"bo-\", stop_at_degree=sg_2_less_critical_out_degree\n",
    ")"
   ]
  },
  {
   "cell_type": "code",
   "execution_count": null,
   "id": "5b9e5ea7",
   "metadata": {},
   "outputs": [],
   "source": [
    "# Only informative.\n",
    "\n",
    "sg_2_critical_groups, _ = get_out_degree_critical_nodes_for_count(small_graph_2, 10)\n",
    "print(f\"\\n{sg_2_critical_groups}\")"
   ]
  },
  {
   "cell_type": "markdown",
   "id": "da1886b5",
   "metadata": {},
   "source": [
    "#### 2.4.3. Medium network"
   ]
  },
  {
   "cell_type": "code",
   "execution_count": null,
   "id": "5cf9530d",
   "metadata": {},
   "outputs": [],
   "source": [
    "draw_out_degree_based_network(medium_graph)"
   ]
  },
  {
   "cell_type": "code",
   "execution_count": null,
   "id": "7b857b11",
   "metadata": {},
   "outputs": [],
   "source": [
    "mg_out_degree_series = get_out_degree_series(medium_graph)\n",
    "print(mg_out_degree_series.describe())"
   ]
  },
  {
   "cell_type": "code",
   "execution_count": null,
   "id": "fb29d248",
   "metadata": {},
   "outputs": [],
   "source": [
    "plot_out_degree_descriptive_stats(medium_graph, \"green\")"
   ]
  },
  {
   "cell_type": "code",
   "execution_count": null,
   "id": "d2fe1a0e",
   "metadata": {},
   "outputs": [],
   "source": [
    "plot_out_degree_histogram(medium_graph, \"green\")"
   ]
  },
  {
   "cell_type": "code",
   "execution_count": null,
   "id": "09ac8ac6",
   "metadata": {
    "scrolled": false
   },
   "outputs": [],
   "source": [
    "plot_out_degree_ranking(medium_graph, \"go-\")"
   ]
  },
  {
   "cell_type": "code",
   "execution_count": null,
   "id": "bfc19c3c",
   "metadata": {},
   "outputs": [],
   "source": [
    "mg_critical_groups, _ = get_out_degree_critical_nodes_for_ratio(medium_graph, 20)\n",
    "print(f\"\\n{mg_critical_groups}\")\n",
    "\n",
    "mg_less_critical_out_degree = list(mg_critical_groups)[-1]"
   ]
  },
  {
   "cell_type": "code",
   "execution_count": null,
   "id": "5941ee59",
   "metadata": {
    "scrolled": false
   },
   "outputs": [],
   "source": [
    "plot_out_degree_histogram(\n",
    "    medium_graph, \"green\", start_from_degree=mg_less_critical_out_degree\n",
    ")"
   ]
  },
  {
   "cell_type": "code",
   "execution_count": null,
   "id": "7f6d58d0",
   "metadata": {
    "scrolled": false
   },
   "outputs": [],
   "source": [
    "plot_out_degree_ranking(medium_graph, \"go-\", stop_at_degree=mg_less_critical_out_degree)"
   ]
  },
  {
   "cell_type": "markdown",
   "id": "29f06b00",
   "metadata": {},
   "source": [
    "A slightly different approach will be used to select the most important assets for the _anon-dataset-medium_ and _anon-dataset-large_ datasets: a target asset count is specified instead of a percentage. This is because they contain way more assets than the small datasets and the ~20% percentage might return hundreds of assets, which is not helpful for Data Governance teams to act. "
   ]
  },
  {
   "cell_type": "code",
   "execution_count": null,
   "id": "3e2012f7",
   "metadata": {},
   "outputs": [],
   "source": [
    "mg_critical_groups, _ = get_out_degree_critical_nodes_for_count(medium_graph, 30)\n",
    "print(f\"\\n{mg_critical_groups}\")\n",
    "\n",
    "mg_less_critical_out_degree = list(mg_critical_groups)[-1]"
   ]
  },
  {
   "cell_type": "code",
   "execution_count": null,
   "id": "b9b3e05c",
   "metadata": {
    "scrolled": false
   },
   "outputs": [],
   "source": [
    "plot_out_degree_histogram(\n",
    "    medium_graph, \"green\", start_from_degree=mg_less_critical_out_degree\n",
    ")"
   ]
  },
  {
   "cell_type": "code",
   "execution_count": null,
   "id": "22c5ff8d",
   "metadata": {
    "scrolled": false
   },
   "outputs": [],
   "source": [
    "plot_out_degree_ranking(medium_graph, \"go-\", stop_at_degree=mg_less_critical_out_degree)"
   ]
  },
  {
   "cell_type": "markdown",
   "id": "777893fe",
   "metadata": {},
   "source": [
    "#### 2.4.4. Large network"
   ]
  },
  {
   "cell_type": "code",
   "execution_count": null,
   "id": "805b0d12",
   "metadata": {},
   "outputs": [],
   "source": [
    "draw_out_degree_based_network(large_graph)"
   ]
  },
  {
   "cell_type": "code",
   "execution_count": null,
   "id": "27b2fa68",
   "metadata": {
    "scrolled": true
   },
   "outputs": [],
   "source": [
    "lg_out_degree_series = get_out_degree_series(large_graph)\n",
    "print(lg_out_degree_series.describe())"
   ]
  },
  {
   "cell_type": "code",
   "execution_count": null,
   "id": "26dd36cd",
   "metadata": {},
   "outputs": [],
   "source": [
    "plot_out_degree_descriptive_stats(large_graph, \"magenta\")"
   ]
  },
  {
   "cell_type": "code",
   "execution_count": null,
   "id": "9e3136f9",
   "metadata": {
    "scrolled": true
   },
   "outputs": [],
   "source": [
    "plot_out_degree_histogram(large_graph, \"magenta\")"
   ]
  },
  {
   "cell_type": "code",
   "execution_count": null,
   "id": "b8dd041e",
   "metadata": {
    "scrolled": false
   },
   "outputs": [],
   "source": [
    "plot_out_degree_ranking(large_graph, \"mo-\")"
   ]
  },
  {
   "cell_type": "code",
   "execution_count": null,
   "id": "758460d8",
   "metadata": {},
   "outputs": [],
   "source": [
    "lg_critical_groups, _ = get_out_degree_critical_nodes_for_ratio(large_graph, 20)\n",
    "print(f\"\\n{lg_critical_groups}\")\n",
    "\n",
    "lg_less_critical_out_degree = list(lg_critical_groups)[-1]"
   ]
  },
  {
   "cell_type": "code",
   "execution_count": null,
   "id": "47efd4e9",
   "metadata": {
    "scrolled": false
   },
   "outputs": [],
   "source": [
    "plot_out_degree_histogram(\n",
    "    large_graph, \"magenta\", start_from_degree=lg_less_critical_out_degree\n",
    ")"
   ]
  },
  {
   "cell_type": "code",
   "execution_count": null,
   "id": "363eb190",
   "metadata": {
    "scrolled": true
   },
   "outputs": [],
   "source": [
    "plot_out_degree_ranking(large_graph, \"mo-\", stop_at_degree=lg_less_critical_out_degree)"
   ]
  },
  {
   "cell_type": "code",
   "execution_count": null,
   "id": "bb4aef89",
   "metadata": {},
   "outputs": [],
   "source": [
    "lg_critical_groups, _ = get_out_degree_critical_nodes_for_count(large_graph, 30)\n",
    "print(f\"\\n{lg_critical_groups}\")\n",
    "\n",
    "lg_less_critical_out_degree = list(lg_critical_groups)[-1]"
   ]
  },
  {
   "cell_type": "code",
   "execution_count": null,
   "id": "bb1e832c",
   "metadata": {
    "scrolled": false
   },
   "outputs": [],
   "source": [
    "plot_out_degree_histogram(\n",
    "    large_graph, \"magenta\", start_from_degree=lg_less_critical_out_degree\n",
    ")"
   ]
  },
  {
   "cell_type": "code",
   "execution_count": null,
   "id": "e823b29d",
   "metadata": {
    "scrolled": true
   },
   "outputs": [],
   "source": [
    "plot_out_degree_ranking(large_graph, \"mo-\", stop_at_degree=lg_less_critical_out_degree)"
   ]
  }
 ],
 "metadata": {
  "kernelspec": {
   "display_name": "Python 3 (ipykernel)",
   "language": "python",
   "name": "python3"
  },
  "language_info": {
   "codemirror_mode": {
    "name": "ipython",
    "version": 3
   },
   "file_extension": ".py",
   "mimetype": "text/x-python",
   "name": "python",
   "nbconvert_exporter": "python",
   "pygments_lexer": "ipython3",
   "version": "3.8.16"
  }
 },
 "nbformat": 4,
 "nbformat_minor": 5
}
