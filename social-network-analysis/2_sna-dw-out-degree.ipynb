{
 "cells": [
  {
   "cell_type": "markdown",
   "id": "0269bfa1",
   "metadata": {},
   "source": [
    "# Social Network Analysis for Data Warehouses\n",
    "\n",
    "## 2. Network Connectivity Analysis: Out-Degree\n",
    "\n",
    "**Degree** defines the number of connections a node has."
   ]
  },
  {
   "cell_type": "markdown",
   "id": "d8577887",
   "metadata": {},
   "source": [
    "### 2.1. Import dependencies"
   ]
  },
  {
   "cell_type": "code",
   "execution_count": null,
   "id": "0e637bc3",
   "metadata": {},
   "outputs": [],
   "source": [
    "import itertools\n",
    "from typing import Dict, List, Tuple\n",
    "\n",
    "import matplotlib.pyplot as plt\n",
    "import networkx as nx\n",
    "from networkx.classes.graph import Graph\n",
    "import numpy as np"
   ]
  },
  {
   "cell_type": "markdown",
   "id": "69f1c45a",
   "metadata": {},
   "source": [
    "### 2.2. Utility functions"
   ]
  },
  {
   "cell_type": "code",
   "execution_count": null,
   "id": "9bdc46a4",
   "metadata": {},
   "outputs": [],
   "source": [
    "def load_graph_from_csv(file: str) -> Graph:\n",
    "    return nx.read_edgelist(file, delimiter=\",\", create_using=nx.DiGraph)"
   ]
  },
  {
   "cell_type": "code",
   "execution_count": null,
   "id": "5ca39cd4",
   "metadata": {},
   "outputs": [],
   "source": [
    "def format_graph_info(graph_id: str, graph: Graph) -> str:\n",
    "    return (\n",
    "        f\"{graph_id.upper()} GRAPH INFO:\\n\"\n",
    "        f\"  Number of nodes: {nx.number_of_nodes(graph)}\\n\"\n",
    "        f\"  Number of edges: {nx.number_of_edges(graph)}\\n\"\n",
    "        f\"  Density: {nx.density(graph)}\\n\"\n",
    "        f\"  Average clustering coefficient: {nx.average_clustering(graph)}\\n\"\n",
    "        f\"  Transitivity: {nx.transitivity(graph)}\"\n",
    "    )"
   ]
  },
  {
   "cell_type": "code",
   "execution_count": null,
   "id": "01aa552a",
   "metadata": {},
   "outputs": [],
   "source": [
    "def get_out_degrees(graph: Graph) -> List[int]:\n",
    "    return [degree for _, degree in graph.out_degree]"
   ]
  },
  {
   "cell_type": "code",
   "execution_count": null,
   "id": "c67ae296",
   "metadata": {},
   "outputs": [],
   "source": [
    "def draw_out_degree_based_network(graph: Graph) -> None:\n",
    "    degrees = get_out_degrees(graph)\n",
    "    non_zero_degrees = [degree or 0.05 for degree in degrees]\n",
    "    sorted_degrees = sorted(non_zero_degrees)\n",
    "    node_color = [degree * 20000 for degree in sorted_degrees]\n",
    "    node_size = [degree * 100 for degree in sorted_degrees]\n",
    "\n",
    "    pos = nx.spring_layout(graph)\n",
    "    plt.figure(figsize=(12, 8))\n",
    "    nx.draw_networkx(\n",
    "        graph,\n",
    "        pos=pos,\n",
    "        with_labels=False,\n",
    "        edge_color=\"dimgray\",\n",
    "        node_color=node_color,\n",
    "        node_size=node_size,\n",
    "    )\n",
    "    plt.axis(\"off\")"
   ]
  },
  {
   "cell_type": "code",
   "execution_count": null,
   "id": "5eec9106",
   "metadata": {},
   "outputs": [],
   "source": [
    "def print_out_degree_histogram(\n",
    "    graph: Graph, color: str, start_from_degree: int = 0\n",
    ") -> None:\n",
    "    degrees = get_out_degrees(graph)\n",
    "    unique_degrees, counts = np.unique(degrees, return_counts=True)\n",
    "\n",
    "    start_from_index = 0\n",
    "    if start_from_degree:\n",
    "        start_from_index = np.where(unique_degrees == start_from_degree)[0][0]\n",
    "\n",
    "    plt.figure(figsize=(12, 3))\n",
    "    plt.bar(unique_degrees[start_from_index:], counts[start_from_index:], color=color)\n",
    "    plt.xlabel(\"Out-degree\")\n",
    "    plt.ylabel(\"# of Nodes\")"
   ]
  },
  {
   "cell_type": "code",
   "execution_count": null,
   "id": "701d8efd",
   "metadata": {},
   "outputs": [],
   "source": [
    "def print_out_degree_ranking(graph: Graph, fmt: str, stop_at_degree: int = 0) -> None:\n",
    "    degrees = sorted(get_out_degrees(graph), reverse=True)\n",
    "\n",
    "    if stop_at_degree:\n",
    "        stop_at_index = degrees.index(stop_at_degree)\n",
    "        while degrees[stop_at_index] == degrees[stop_at_index + 1]:\n",
    "            stop_at_index += 1\n",
    "\n",
    "    adjusted_list = [None]\n",
    "    adjusted_list.extend(degrees[: stop_at_index + 1] if stop_at_degree else degrees)\n",
    "\n",
    "    plt.figure(figsize=(12, 3))\n",
    "    plt.plot(adjusted_list, fmt)\n",
    "    plt.xlabel(\"Rank\")\n",
    "    plt.ylabel(\"Out-degree\")"
   ]
  },
  {
   "cell_type": "code",
   "execution_count": null,
   "id": "34eb3180",
   "metadata": {},
   "outputs": [],
   "source": [
    "def group_nodes_by_out_degree(\n",
    "    graph: Graph, highest_first: bool = True\n",
    ") -> Dict[int, List[str]]:\n",
    "    degrees = get_out_degrees(graph)\n",
    "    degrees_dict = {}\n",
    "    unique_degrees = sorted(np.unique(degrees), reverse=highest_first)\n",
    "    for unique_degree in unique_degrees:\n",
    "        degrees_dict[int(unique_degree)] = sorted(\n",
    "            [node for node, degree in graph.out_degree if degree == unique_degree]\n",
    "        )\n",
    "    return degrees_dict"
   ]
  },
  {
   "cell_type": "code",
   "execution_count": null,
   "id": "cea6c137",
   "metadata": {},
   "outputs": [],
   "source": [
    "def get_out_degree_critical_nodes_for_count(\n",
    "    graph: Graph, target_node_count: int = 10\n",
    ") -> Tuple[Dict[int, List[str]], float]:\n",
    "    node_count = 0\n",
    "    degree_groups = group_nodes_by_out_degree(graph)\n",
    "    degree_sum = sum(get_out_degrees(graph))\n",
    "\n",
    "    group_count = 0\n",
    "    while node_count < target_node_count:\n",
    "        group_count += 1\n",
    "        highest_degrees = dict(itertools.islice(degree_groups.items(), group_count))\n",
    "        node_count = sum([len(nodes) for _, nodes in highest_degrees.items()])\n",
    "\n",
    "    highest_degree_sum = sum(\n",
    "        [degree * len(nodes) for degree, nodes in highest_degrees.items()]\n",
    "    )\n",
    "    groups_degree_ratio = highest_degree_sum / degree_sum * 100\n",
    "    print(\n",
    "        f\"{group_count}-critical-groups node count: {node_count}\\n\"\n",
    "        f\"{group_count}-critical-groups/total out-degree ratio:\"\n",
    "        f\" {groups_degree_ratio:.0f}% ({highest_degree_sum}/{degree_sum})\"\n",
    "    )\n",
    "\n",
    "    return highest_degrees, node_count"
   ]
  },
  {
   "cell_type": "code",
   "execution_count": null,
   "id": "bc3af1da",
   "metadata": {},
   "outputs": [],
   "source": [
    "def get_out_degree_critical_nodes_for_ratio(\n",
    "    graph: Graph, target_ratio: float = 20.0\n",
    ") -> Tuple[Dict[int, List[str]], float]:\n",
    "    groups_degree_ratio = 0\n",
    "    degree_groups = group_nodes_by_out_degree(graph)\n",
    "    degree_sum = sum(get_out_degrees(graph))\n",
    "\n",
    "    group_count = 0\n",
    "    while groups_degree_ratio < target_ratio:\n",
    "        group_count += 1\n",
    "        highest_degrees = dict(itertools.islice(degree_groups.items(), group_count))\n",
    "        highest_degree_sum = sum(\n",
    "            [degree * len(nodes) for degree, nodes in highest_degrees.items()]\n",
    "        )\n",
    "        groups_degree_ratio = highest_degree_sum / degree_sum * 100\n",
    "\n",
    "    node_count = sum([len(nodes) for _, nodes in highest_degrees.items()])\n",
    "\n",
    "    print(\n",
    "        f\"{group_count}-critical-groups node count: {node_count}\\n\"\n",
    "        f\"{group_count}-critical-groups/total out-degree ratio:\"\n",
    "        f\" {groups_degree_ratio:.0f}% ({highest_degree_sum}/{degree_sum})\"\n",
    "    )\n",
    "\n",
    "    return highest_degrees, groups_degree_ratio"
   ]
  },
  {
   "cell_type": "markdown",
   "id": "20a2bb99",
   "metadata": {},
   "source": [
    "### 2.3. Load the anonymized graphs from CSV"
   ]
  },
  {
   "cell_type": "code",
   "execution_count": null,
   "id": "f774689e",
   "metadata": {},
   "outputs": [],
   "source": [
    "anon_data_folder = \"../data/anonymized\"\n",
    "\n",
    "small_graph_1 = load_graph_from_csv(f\"{anon_data_folder}/anon-dataset-small_1.csv\")\n",
    "print(f'{format_graph_info(\"small(1)\", small_graph_1)}\\n')\n",
    "\n",
    "small_graph_2 = load_graph_from_csv(f\"{anon_data_folder}/anon-dataset-small_2.csv\")\n",
    "print(f'{format_graph_info(\"small(2)\", small_graph_2)}\\n')\n",
    "\n",
    "medium_graph = load_graph_from_csv(f\"{anon_data_folder}/anon-dataset-medium.csv\")\n",
    "print(f'{format_graph_info(\"medium\", medium_graph)}\\n')\n",
    "\n",
    "large_graph = load_graph_from_csv(f\"{anon_data_folder}/anon-dataset-large.csv\")\n",
    "print(f'{format_graph_info(\"large\", large_graph)}')"
   ]
  },
  {
   "cell_type": "markdown",
   "id": "40ecfddf",
   "metadata": {},
   "source": [
    "### 2.4. Draw the networks, degree histograms, and rankings"
   ]
  },
  {
   "cell_type": "markdown",
   "id": "01d89c6d",
   "metadata": {},
   "source": [
    "#### 2.4.1. Small network 1"
   ]
  },
  {
   "cell_type": "code",
   "execution_count": null,
   "id": "384aaf90",
   "metadata": {},
   "outputs": [],
   "source": [
    "draw_out_degree_based_network(small_graph_1)"
   ]
  },
  {
   "cell_type": "code",
   "execution_count": null,
   "id": "fcb65889",
   "metadata": {},
   "outputs": [],
   "source": [
    "print_out_degree_histogram(small_graph_1, \"blue\")"
   ]
  },
  {
   "cell_type": "code",
   "execution_count": null,
   "id": "5af0da41",
   "metadata": {
    "scrolled": true
   },
   "outputs": [],
   "source": [
    "print_out_degree_ranking(small_graph_1, \"bo-\")"
   ]
  },
  {
   "cell_type": "code",
   "execution_count": null,
   "id": "d8dae290",
   "metadata": {},
   "outputs": [],
   "source": [
    "critical_groups_sg1, _ = get_out_degree_critical_nodes_for_ratio(small_graph_1)\n",
    "print(f\"\\n{critical_groups_sg1}\")\n",
    "\n",
    "less_critical_out_degree_sg1 = list(critical_groups_sg1)[-1]"
   ]
  },
  {
   "cell_type": "code",
   "execution_count": null,
   "id": "b56c37ed",
   "metadata": {},
   "outputs": [],
   "source": [
    "print_out_degree_histogram(\n",
    "    small_graph_1, \"blue\", start_from_degree=less_critical_out_degree_sg1\n",
    ")"
   ]
  },
  {
   "cell_type": "code",
   "execution_count": null,
   "id": "44fe34c2",
   "metadata": {
    "scrolled": false
   },
   "outputs": [],
   "source": [
    "print_out_degree_ranking(\n",
    "    small_graph_1, \"bo-\", stop_at_degree=less_critical_out_degree_sg1\n",
    ")"
   ]
  },
  {
   "cell_type": "code",
   "execution_count": null,
   "id": "24c13aea",
   "metadata": {},
   "outputs": [],
   "source": [
    "# Only informative.\n",
    "\n",
    "critical_groups_sg1, _ = get_out_degree_critical_nodes_for_count(small_graph_1)\n",
    "print(f\"\\n{critical_groups_sg1}\")"
   ]
  },
  {
   "cell_type": "markdown",
   "id": "299451be",
   "metadata": {},
   "source": [
    "#### 2.4.2. Small network 2"
   ]
  },
  {
   "cell_type": "code",
   "execution_count": null,
   "id": "9af8cb61",
   "metadata": {},
   "outputs": [],
   "source": [
    "draw_out_degree_based_network(small_graph_2)"
   ]
  },
  {
   "cell_type": "code",
   "execution_count": null,
   "id": "8d8ef749",
   "metadata": {},
   "outputs": [],
   "source": [
    "print_out_degree_histogram(small_graph_2, \"red\")"
   ]
  },
  {
   "cell_type": "code",
   "execution_count": null,
   "id": "654865f5",
   "metadata": {
    "scrolled": false
   },
   "outputs": [],
   "source": [
    "print_out_degree_ranking(small_graph_2, \"ro-\")"
   ]
  },
  {
   "cell_type": "code",
   "execution_count": null,
   "id": "5a8499b9",
   "metadata": {},
   "outputs": [],
   "source": [
    "critical_groups_sg2, _ = get_out_degree_critical_nodes_for_ratio(small_graph_2)\n",
    "print(f\"\\n{critical_groups_sg2}\")\n",
    "\n",
    "less_critical_out_degree_sg2 = list(critical_groups_sg2)[-1]"
   ]
  },
  {
   "cell_type": "code",
   "execution_count": null,
   "id": "3240f8e9",
   "metadata": {},
   "outputs": [],
   "source": [
    "print_out_degree_histogram(\n",
    "    small_graph_2, \"red\", start_from_degree=less_critical_out_degree_sg2\n",
    ")"
   ]
  },
  {
   "cell_type": "code",
   "execution_count": null,
   "id": "f68102c9",
   "metadata": {
    "scrolled": true
   },
   "outputs": [],
   "source": [
    "print_out_degree_ranking(\n",
    "    small_graph_2, \"ro-\", stop_at_degree=less_critical_out_degree_sg2\n",
    ")"
   ]
  },
  {
   "cell_type": "code",
   "execution_count": null,
   "id": "5b9e5ea7",
   "metadata": {},
   "outputs": [],
   "source": [
    "# Only informative.\n",
    "\n",
    "critical_groups_sg2, _ = get_out_degree_critical_nodes_for_count(small_graph_2)\n",
    "print(f\"\\n{critical_groups_sg2}\")"
   ]
  },
  {
   "cell_type": "markdown",
   "id": "da1886b5",
   "metadata": {},
   "source": [
    "#### 2.4.3. Medium network"
   ]
  },
  {
   "cell_type": "code",
   "execution_count": null,
   "id": "5cf9530d",
   "metadata": {},
   "outputs": [],
   "source": [
    "draw_network(medium_graph)"
   ]
  },
  {
   "cell_type": "code",
   "execution_count": null,
   "id": "d2fe1a0e",
   "metadata": {},
   "outputs": [],
   "source": [
    "print_out_degree_histogram(medium_graph, \"cyan\")"
   ]
  },
  {
   "cell_type": "code",
   "execution_count": null,
   "id": "09ac8ac6",
   "metadata": {
    "scrolled": false
   },
   "outputs": [],
   "source": [
    "print_out_degree_ranking(medium_graph, \"co-\")"
   ]
  },
  {
   "cell_type": "code",
   "execution_count": null,
   "id": "bfc19c3c",
   "metadata": {},
   "outputs": [],
   "source": [
    "critical_groups_mg, _ = get_out_degree_critical_nodes_for_ratio(medium_graph)\n",
    "print(f\"\\n{critical_groups_mg}\")\n",
    "\n",
    "less_critical_out_degree_mg = list(critical_groups_mg)[-1]"
   ]
  },
  {
   "cell_type": "code",
   "execution_count": null,
   "id": "5941ee59",
   "metadata": {
    "scrolled": false
   },
   "outputs": [],
   "source": [
    "print_out_degree_histogram(\n",
    "    medium_graph, \"cyan\", start_from_degree=less_critical_out_degree_mg\n",
    ")"
   ]
  },
  {
   "cell_type": "code",
   "execution_count": null,
   "id": "7f6d58d0",
   "metadata": {
    "scrolled": false
   },
   "outputs": [],
   "source": [
    "print_out_degree_ranking(\n",
    "    medium_graph, \"co-\", stop_at_degree=less_critical_out_degree_mg\n",
    ")"
   ]
  },
  {
   "cell_type": "code",
   "execution_count": null,
   "id": "3e2012f7",
   "metadata": {},
   "outputs": [],
   "source": [
    "critical_groups_mg, _ = get_out_degree_critical_nodes_for_count(medium_graph, 15)\n",
    "print(f\"\\n{critical_groups_mg}\")\n",
    "\n",
    "less_critical_out_degree_mg = list(critical_groups_mg)[-1]"
   ]
  },
  {
   "cell_type": "code",
   "execution_count": null,
   "id": "b9b3e05c",
   "metadata": {
    "scrolled": false
   },
   "outputs": [],
   "source": [
    "print_out_degree_histogram(\n",
    "    medium_graph, \"cyan\", start_from_degree=less_critical_out_degree_mg\n",
    ")"
   ]
  },
  {
   "cell_type": "code",
   "execution_count": null,
   "id": "22c5ff8d",
   "metadata": {
    "scrolled": false
   },
   "outputs": [],
   "source": [
    "print_out_degree_ranking(\n",
    "    medium_graph, \"co-\", stop_at_degree=less_critical_out_degree_mg\n",
    ")"
   ]
  },
  {
   "cell_type": "markdown",
   "id": "777893fe",
   "metadata": {},
   "source": [
    "#### 2.4.4. Large network"
   ]
  },
  {
   "cell_type": "code",
   "execution_count": null,
   "id": "805b0d12",
   "metadata": {},
   "outputs": [],
   "source": [
    "draw_network(large_graph)"
   ]
  },
  {
   "cell_type": "code",
   "execution_count": null,
   "id": "9e3136f9",
   "metadata": {
    "scrolled": true
   },
   "outputs": [],
   "source": [
    "print_out_degree_histogram(large_graph, \"magenta\")"
   ]
  },
  {
   "cell_type": "code",
   "execution_count": null,
   "id": "b8dd041e",
   "metadata": {
    "scrolled": false
   },
   "outputs": [],
   "source": [
    "print_out_degree_ranking(large_graph, \"mo-\")"
   ]
  },
  {
   "cell_type": "code",
   "execution_count": null,
   "id": "758460d8",
   "metadata": {},
   "outputs": [],
   "source": [
    "critical_groups_lg, _ = get_out_degree_critical_nodes_for_ratio(large_graph)\n",
    "print(f\"\\n{critical_groups_lg}\")\n",
    "\n",
    "less_critical_out_degree_lg = list(critical_groups_lg)[-1]"
   ]
  },
  {
   "cell_type": "code",
   "execution_count": null,
   "id": "47efd4e9",
   "metadata": {
    "scrolled": false
   },
   "outputs": [],
   "source": [
    "print_out_degree_histogram(\n",
    "    large_graph, \"magenta\", start_from_degree=less_critical_out_degree_lg\n",
    ")"
   ]
  },
  {
   "cell_type": "code",
   "execution_count": null,
   "id": "363eb190",
   "metadata": {
    "scrolled": true
   },
   "outputs": [],
   "source": [
    "print_out_degree_ranking(large_graph, \"mo-\", stop_at_degree=less_critical_out_degree_lg)"
   ]
  },
  {
   "cell_type": "code",
   "execution_count": null,
   "id": "bb4aef89",
   "metadata": {},
   "outputs": [],
   "source": [
    "critical_groups_lg, _ = get_out_degree_critical_nodes_for_count(large_graph, 20)\n",
    "print(f\"\\n{critical_groups_lg}\")\n",
    "\n",
    "less_critical_out_degree_lg = list(critical_groups_lg)[-1]"
   ]
  },
  {
   "cell_type": "code",
   "execution_count": null,
   "id": "bb1e832c",
   "metadata": {
    "scrolled": false
   },
   "outputs": [],
   "source": [
    "print_out_degree_histogram(\n",
    "    large_graph, \"magenta\", start_from_degree=less_critical_out_degree_lg\n",
    ")"
   ]
  },
  {
   "cell_type": "code",
   "execution_count": null,
   "id": "e823b29d",
   "metadata": {
    "scrolled": true
   },
   "outputs": [],
   "source": [
    "print_out_degree_ranking(large_graph, \"mo-\", stop_at_degree=less_critical_out_degree_lg)"
   ]
  }
 ],
 "metadata": {
  "kernelspec": {
   "display_name": "Python 3 (ipykernel)",
   "language": "python",
   "name": "python3"
  },
  "language_info": {
   "codemirror_mode": {
    "name": "ipython",
    "version": 3
   },
   "file_extension": ".py",
   "mimetype": "text/x-python",
   "name": "python",
   "nbconvert_exporter": "python",
   "pygments_lexer": "ipython3",
   "version": "3.8.10"
  }
 },
 "nbformat": 4,
 "nbformat_minor": 5
}
